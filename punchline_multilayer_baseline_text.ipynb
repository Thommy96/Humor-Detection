{
 "cells": [
  {
   "cell_type": "code",
   "execution_count": 1,
   "metadata": {},
   "outputs": [],
   "source": [
    "#imports\n",
    "import torch\n",
    "import numpy as np\n",
    "import matplotlib.pyplot as plt"
   ]
  },
  {
   "cell_type": "code",
   "execution_count": 2,
   "metadata": {},
   "outputs": [],
   "source": [
    "%run dataloader.ipynb"
   ]
  },
  {
   "cell_type": "code",
   "execution_count": 3,
   "metadata": {},
   "outputs": [],
   "source": [
    "batch_size=2600\n",
    "train_dataloader = DataLoader(train_set, collate_fn=collate_fn, batch_size=batch_size, shuffle=True)\n",
    "dev_dataloader = DataLoader(dev_set, collate_fn=collate_fn, batch_size=1000, shuffle=True)\n",
    "test_dataloader = DataLoader(test_set, collate_fn=collate_fn, batch_size=1000, shuffle=True)"
   ]
  },
  {
   "cell_type": "code",
   "execution_count": 4,
   "metadata": {},
   "outputs": [],
   "source": [
    "gpu_id = 'cuda:3'\n",
    "device = torch.device(gpu_id if torch.cuda.is_available() else 'cpu')"
   ]
  },
  {
   "cell_type": "code",
   "execution_count": 5,
   "metadata": {},
   "outputs": [],
   "source": [
    "# multi layer linear\n",
    "class MultiLayer(torch.nn.Module):\n",
    "\n",
    "    def __init__(self, input_dim, hidden_layer_size) -> None:\n",
    "        super().__init__()\n",
    "        self.linear1 = torch.nn.Linear(20*input_dim, hidden_layer_size)\n",
    "        self.dropout = torch.nn.Dropout(0.2)\n",
    "        self.linear2 = torch.nn.Linear(hidden_layer_size, 1)\n",
    "\n",
    "    def forward(self, x):\n",
    "        x = torch.flatten(x, start_dim=1)\n",
    "        h1 = torch.nn.functional.leaky_relu(self.linear1(x))\n",
    "        h2 = self.dropout(h1)\n",
    "        return self.linear2(h2)\n"
   ]
  },
  {
   "cell_type": "code",
   "execution_count": 8,
   "metadata": {},
   "outputs": [
    {
     "name": "stdout",
     "output_type": "stream",
     "text": [
      "step error\n"
     ]
    },
    {
     "name": "stderr",
     "output_type": "stream",
     "text": [
      "/tmp/ipykernel_3364198/4016921915.py:102: VisibleDeprecationWarning: Creating an ndarray from ragged nested sequences (which is a list-or-tuple of lists-or-tuples-or ndarrays with different lengths or shapes) is deprecated. If you meant to do this, you must specify 'dtype=object' when creating the ndarray.\n",
      "  context_w=np.array(self.language_sdk[hid]['context_embedding_indexes'])\n",
      "/tmp/ipykernel_3364198/4016921915.py:103: VisibleDeprecationWarning: Creating an ndarray from ragged nested sequences (which is a list-or-tuple of lists-or-tuples-or ndarrays with different lengths or shapes) is deprecated. If you meant to do this, you must specify 'dtype=object' when creating the ndarray.\n",
      "  context_of=np.array(self.word_aligned_openface_sdk[hid]['context_features'])\n",
      "/tmp/ipykernel_3364198/4016921915.py:104: VisibleDeprecationWarning: Creating an ndarray from ragged nested sequences (which is a list-or-tuple of lists-or-tuples-or ndarrays with different lengths or shapes) is deprecated. If you meant to do this, you must specify 'dtype=object' when creating the ndarray.\n",
      "  context_cvp=np.array(self.word_aligned_covarep_sdk[hid]['context_features'])\n"
     ]
    },
    {
     "name": "stdout",
     "output_type": "stream",
     "text": [
      "1 0.695232629776001\n",
      "dev error:  0.6834089756011963\n",
      "2 0.6534463763237\n",
      "dev error:  0.6803974509239197\n",
      "3 0.6129816174507141\n",
      "dev error:  0.6816141605377197\n",
      "4 0.5951789617538452\n",
      "dev error:  0.6869055032730103\n",
      "5 0.5711130499839783\n",
      "dev error:  0.6802780032157898\n",
      "6 0.5517423748970032\n",
      "dev error:  0.6803600788116455\n",
      "7 0.5332056283950806\n",
      "dev error:  0.6927834153175354\n",
      "8 0.5151191353797913\n",
      "dev error:  0.6989757418632507\n",
      "9 0.4872157871723175\n",
      "dev error:  0.7004151940345764\n",
      "10 0.4708493649959564\n",
      "dev error:  0.7197502851486206\n",
      "11 0.4599863886833191\n",
      "dev error:  0.7244457006454468\n",
      "12 0.440402090549469\n",
      "dev error:  0.7304035425186157\n",
      "13 0.41618120670318604\n",
      "dev error:  0.7424038648605347\n",
      "14 0.40017759799957275\n",
      "dev error:  0.7439000010490417\n",
      "15 0.38810792565345764\n",
      "dev error:  0.7563881874084473\n"
     ]
    },
    {
     "data": {
      "image/png": "[encoded data removed]",
      "text/plain": [
       "<Figure size 432x288 with 1 Axes>"
      ]
     },
     "metadata": {
      "needs_background": "light"
     },
     "output_type": "display_data"
    },
    {
     "name": "stdout",
     "output_type": "stream",
     "text": [
      "best model after 5 epochs with dev set error 0.6802780032157898\n"
     ]
    }
   ],
   "source": [
    "idxs_text = torch.arange(300) # text, 300\n",
    "idxs_speech = torch.arange(300, 381) # speech, 81\n",
    "idxs_visual = torch.arange(381, 752) # visual, 371\n",
    "idxs_text_speech = torch.arange(381) # text + speech, 381\n",
    "idxs_text_visual = torch.cat((torch.arange(300), torch.arange(381, 752))) # text + visual, 671\n",
    "idxs_speech_visual = torch.arange(300, 752) # speech + visual, 452\n",
    "idxs_all = torch.arange(752) # text + speech + visual, 752\n",
    "\n",
    "model = MultiLayer(input_dim=300, hidden_layer_size=256)\n",
    "model.to(device)\n",
    "\n",
    "optimiser = torch.optim.Adam(model.parameters(), lr=0.001, weight_decay=0.002)\n",
    "epochs = 500\n",
    "patience = 10\n",
    "\n",
    "print('step', 'error')\n",
    "dev_errors = []\n",
    "best_dev_error = np.inf\n",
    "errors = []\n",
    "num_bad_epochs = 0\n",
    "num_epochs = 0\n",
    "best_epoch = 0\n",
    "for epoch in range(1, epochs+1):\n",
    "    model.train()\n",
    "    for batch_idx, batch in enumerate(train_dataloader, 0):\n",
    "        x_p,x_c,y,hid,x_p_len=map(lambda x: x.to(device), batch)\n",
    "        optimiser.zero_grad()\n",
    "        output = model(x_p[:, :, idxs_text])\n",
    "        error = torch.nn.functional.binary_cross_entropy_with_logits(output, y)\n",
    "        error.backward()\n",
    "        optimiser.step()\n",
    "    \n",
    "    print(epoch, error.detach().tolist())\n",
    "    errors.append(error.detach().tolist())\n",
    "\n",
    "    with torch.no_grad():\n",
    "        model.eval()\n",
    "        matches = 0\n",
    "        total = 0\n",
    "        for batch_idx, batch in enumerate(dev_dataloader, 0):\n",
    "            x_p,x_c,y,hid,x_p_len=map(lambda x: x.to(device), batch)\n",
    "            dev_output = model(x_p[:, :, idxs_text])\n",
    "            dev_error = torch.nn.functional.binary_cross_entropy_with_logits(dev_output, y)\n",
    "        dev_errors.append(float(dev_error))\n",
    "        print('dev error: ', float(dev_error))\n",
    "\n",
    "    if dev_error < best_dev_error:\n",
    "        num_bad_epochs = 0\n",
    "        best_dev_error = dev_error\n",
    "        best_epoch = epoch\n",
    "        torch.save(model, 'punchline_multilayer_baseline_text.pth')\n",
    "    else:\n",
    "        num_bad_epochs += 1\n",
    "        if num_bad_epochs == patience:\n",
    "            num_epochs = epoch\n",
    "            break\n",
    "\n",
    "plt.plot(range(1, num_epochs+1), dev_errors, 'r', label='dev error')\n",
    "plt.plot(range(1, num_epochs+1), errors, 'b', label='train error')\n",
    "plt.title('train and dev error')\n",
    "plt.xlabel('epochs')\n",
    "plt.ylabel('error')\n",
    "plt.legend()\n",
    "plt.show()\n",
    "\n",
    "print('best model after {} epochs with dev set error {}'.format(best_epoch, best_dev_error))\n",
    "rnn = torch.load('punchline_multilayer_baseline_text.pth')"
   ]
  },
  {
   "cell_type": "code",
   "execution_count": 9,
   "metadata": {},
   "outputs": [
    {
     "name": "stderr",
     "output_type": "stream",
     "text": [
      "/tmp/ipykernel_3364198/4016921915.py:102: VisibleDeprecationWarning: Creating an ndarray from ragged nested sequences (which is a list-or-tuple of lists-or-tuples-or ndarrays with different lengths or shapes) is deprecated. If you meant to do this, you must specify 'dtype=object' when creating the ndarray.\n",
      "  context_w=np.array(self.language_sdk[hid]['context_embedding_indexes'])\n",
      "/tmp/ipykernel_3364198/4016921915.py:103: VisibleDeprecationWarning: Creating an ndarray from ragged nested sequences (which is a list-or-tuple of lists-or-tuples-or ndarrays with different lengths or shapes) is deprecated. If you meant to do this, you must specify 'dtype=object' when creating the ndarray.\n",
      "  context_of=np.array(self.word_aligned_openface_sdk[hid]['context_features'])\n",
      "/tmp/ipykernel_3364198/4016921915.py:104: VisibleDeprecationWarning: Creating an ndarray from ragged nested sequences (which is a list-or-tuple of lists-or-tuples-or ndarrays with different lengths or shapes) is deprecated. If you meant to do this, you must specify 'dtype=object' when creating the ndarray.\n",
      "  context_cvp=np.array(self.word_aligned_covarep_sdk[hid]['context_features'])\n"
     ]
    },
    {
     "name": "stdout",
     "output_type": "stream",
     "text": [
      "test error:  0.7139315605163574\n",
      "test accuracy: 60.00%\n"
     ]
    }
   ],
   "source": [
    "hid_humor_t = {}\n",
    "hid_humor_f = {}\n",
    "hid_nonhumor_t = {}\n",
    "hid_nonhumor_f = {}\n",
    "\n",
    "with torch.no_grad():\n",
    "    matches = 0\n",
    "    total = 0\n",
    "    for batch_idx, batch in enumerate(test_dataloader, 0): \n",
    "        x_p,x_c,y,hid, x_p_len=map(lambda x: x.to(device), batch)\n",
    "        output = model(x_p[:, :, idxs_text])\n",
    "        error = torch.nn.functional.binary_cross_entropy_with_logits(output, y)\n",
    "        scaled_outputs = torch.sigmoid(output)\n",
    "        predictions = (scaled_outputs > 0.5)*1\n",
    "        matches += (y == predictions).sum()\n",
    "        total += len(y)\n",
    "        for j, id in enumerate(hid.detach().tolist()):\n",
    "            if predictions[j] == 1 and y[j] == 1:\n",
    "                hid_humor_t[id] = scaled_outputs[j].detach().tolist()[0]\n",
    "            elif predictions[j] == 1 and y[j] == 0:\n",
    "                hid_humor_f[id] = scaled_outputs[j].detach().tolist()[0]\n",
    "            elif predictions[j] == 0 and y[j] == 0:\n",
    "                hid_nonhumor_t[id] = scaled_outputs[j].detach().tolist()[0]\n",
    "            elif predictions[j] == 0 and y[j] == 1:\n",
    "                hid_nonhumor_f[id] = scaled_outputs[j].detach().tolist()[0]\n",
    "            else:\n",
    "                print('something is wrong')\n",
    "    acc = matches / total\n",
    "    print('test error: ', float(error))\n",
    "    print('test accuracy: {:.2%}'.format(float(acc)))"
   ]
  }
 ],
 "metadata": {
  "interpreter": {
   "hash": "36cf16204b8548560b1c020c4e8fb5b57f0e4c58016f52f2d4be01e192833930"
  },
  "kernelspec": {
   "display_name": "Python 3.9.9 64-bit",
   "language": "python",
   "name": "python3"
  },
  "language_info": {
   "codemirror_mode": {
    "name": "ipython",
    "version": 3
   },
   "file_extension": ".py",
   "mimetype": "text/x-python",
   "name": "python",
   "nbconvert_exporter": "python",
   "pygments_lexer": "ipython3",
   "version": "3.9.10"
  },
  "orig_nbformat": 4
 },
 "nbformat": 4,
 "nbformat_minor": 2
}
