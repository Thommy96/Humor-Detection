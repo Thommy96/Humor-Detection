{
 "cells": [
  {
   "cell_type": "code",
   "execution_count": 1,
   "metadata": {},
   "outputs": [],
   "source": [
    "#imports\n",
    "import torch\n",
    "import numpy as np\n",
    "import matplotlib.pyplot as plt\n",
    "import random\n",
    "import math"
   ]
  },
  {
   "cell_type": "code",
   "execution_count": 2,
   "metadata": {},
   "outputs": [],
   "source": [
    "%run dataloader.ipynb"
   ]
  },
  {
   "cell_type": "code",
   "execution_count": 3,
   "metadata": {},
   "outputs": [],
   "source": [
    "batch_size=2600\n",
    "train_dataloader = DataLoader(train_set, collate_fn=collate_fn, batch_size=batch_size, shuffle=True)\n",
    "dev_dataloader = DataLoader(dev_set, collate_fn=collate_fn, batch_size=1000, shuffle=True)\n",
    "test_dataloader = DataLoader(test_set, collate_fn=collate_fn, batch_size=1000, shuffle=True)"
   ]
  },
  {
   "cell_type": "code",
   "execution_count": 4,
   "metadata": {},
   "outputs": [],
   "source": [
    "gpu_id = 'cuda:1'\n",
    "device = torch.device(gpu_id if torch.cuda.is_available() else 'cpu')"
   ]
  },
  {
   "cell_type": "code",
   "execution_count": 16,
   "metadata": {},
   "outputs": [],
   "source": [
    "# rnn\n",
    "class RNN(torch.nn.Module):\n",
    "\n",
    "    def __init__(self, input_dim_speech, hidden_layer_size) -> None:\n",
    "        super().__init__()\n",
    "\n",
    "        self.speech_rnn = torch.nn.LSTM(input_dim_speech, hidden_layer_size, batch_first=True, num_layers=2, dropout=0.2)\n",
    "        self.dropout = torch.nn.Dropout(0.2)\n",
    "        self.linear = torch.nn.Linear(hidden_layer_size, 1)\n",
    "\n",
    "    def forward(self, x_speech, text_lens):\n",
    "        batch_size = x_speech.shape[0]\n",
    "\n",
    "        interm_states_speech, _ = self.speech_rnn(x_speech)\n",
    "        final_state_speech = interm_states_speech[torch.arange(batch_size), text_lens - 1, :]\n",
    "\n",
    "        h = self.dropout(final_state_speech)\n",
    "        return self.linear(h)"
   ]
  },
  {
   "cell_type": "code",
   "execution_count": 17,
   "metadata": {},
   "outputs": [
    {
     "name": "stdout",
     "output_type": "stream",
     "text": [
      "step error\n"
     ]
    },
    {
     "name": "stderr",
     "output_type": "stream",
     "text": [
      "/tmp/ipykernel_3510474/4016921915.py:102: VisibleDeprecationWarning: Creating an ndarray from ragged nested sequences (which is a list-or-tuple of lists-or-tuples-or ndarrays with different lengths or shapes) is deprecated. If you meant to do this, you must specify 'dtype=object' when creating the ndarray.\n",
      "  context_w=np.array(self.language_sdk[hid]['context_embedding_indexes'])\n",
      "/tmp/ipykernel_3510474/4016921915.py:103: VisibleDeprecationWarning: Creating an ndarray from ragged nested sequences (which is a list-or-tuple of lists-or-tuples-or ndarrays with different lengths or shapes) is deprecated. If you meant to do this, you must specify 'dtype=object' when creating the ndarray.\n",
      "  context_of=np.array(self.word_aligned_openface_sdk[hid]['context_features'])\n",
      "/tmp/ipykernel_3510474/4016921915.py:104: VisibleDeprecationWarning: Creating an ndarray from ragged nested sequences (which is a list-or-tuple of lists-or-tuples-or ndarrays with different lengths or shapes) is deprecated. If you meant to do this, you must specify 'dtype=object' when creating the ndarray.\n",
      "  context_cvp=np.array(self.word_aligned_covarep_sdk[hid]['context_features'])\n"
     ]
    },
    {
     "name": "stdout",
     "output_type": "stream",
     "text": [
      "1 0.6935873031616211\n",
      "dev error:  0.6929223537445068\n",
      "2 0.6931340098381042\n",
      "dev error:  0.6931998133659363\n",
      "3 0.6935620903968811\n",
      "dev error:  0.6932913661003113\n",
      "4 0.6928681135177612\n",
      "dev error:  0.6929193735122681\n",
      "5 0.692953884601593\n",
      "dev error:  0.6929051876068115\n",
      "6 0.6926993131637573\n",
      "dev error:  0.6929990649223328\n",
      "7 0.692969799041748\n",
      "dev error:  0.6931795477867126\n",
      "8 0.6931259632110596\n",
      "dev error:  0.6930409669876099\n",
      "9 0.6926270723342896\n",
      "dev error:  0.6928951740264893\n",
      "10 0.6926555633544922\n",
      "dev error:  0.6928821802139282\n",
      "11 0.6925095915794373\n",
      "dev error:  0.6928838491439819\n",
      "12 0.6922594308853149\n",
      "dev error:  0.692875862121582\n",
      "13 0.6921913027763367\n",
      "dev error:  0.6928614377975464\n",
      "14 0.6920953392982483\n",
      "dev error:  0.6928625702857971\n",
      "15 0.6916483640670776\n",
      "dev error:  0.6926229000091553\n",
      "16 0.692356288433075\n",
      "dev error:  0.6924784779548645\n",
      "17 0.6927343606948853\n",
      "dev error:  0.6929779052734375\n",
      "18 0.6914936304092407\n",
      "dev error:  0.6921805739402771\n",
      "19 0.6919912099838257\n",
      "dev error:  0.6920677423477173\n",
      "20 0.6913459300994873\n",
      "dev error:  0.6927024722099304\n",
      "21 0.6906254291534424\n",
      "dev error:  0.6916961073875427\n",
      "22 0.6890773773193359\n",
      "dev error:  0.6918409466743469\n",
      "23 0.6898152828216553\n",
      "dev error:  0.6908470392227173\n",
      "24 0.6914731860160828\n",
      "dev error:  0.6919713616371155\n",
      "25 0.6865549087524414\n",
      "dev error:  0.6901017427444458\n",
      "26 0.6861386299133301\n",
      "dev error:  0.6904418468475342\n",
      "27 0.6890388131141663\n",
      "dev error:  0.6954610347747803\n",
      "28 0.6879116296768188\n",
      "dev error:  0.6937565803527832\n",
      "29 0.6884084343910217\n",
      "dev error:  0.6899087429046631\n",
      "30 0.6880432367324829\n",
      "dev error:  0.6898424029350281\n",
      "31 0.6873043179512024\n",
      "dev error:  0.6899303793907166\n",
      "32 0.686293363571167\n",
      "dev error:  0.6890166401863098\n",
      "33 0.6871886849403381\n",
      "dev error:  0.6891394853591919\n",
      "34 0.6842827796936035\n",
      "dev error:  0.6896560788154602\n",
      "35 0.683607816696167\n",
      "dev error:  0.693705141544342\n",
      "36 0.6889976263046265\n",
      "dev error:  0.688936710357666\n",
      "37 0.6837512850761414\n",
      "dev error:  0.6888618469238281\n",
      "38 0.6860623359680176\n",
      "dev error:  0.6898441314697266\n",
      "39 0.6857320070266724\n",
      "dev error:  0.6883557438850403\n",
      "40 0.6850605010986328\n",
      "dev error:  0.6882827877998352\n",
      "41 0.6872919797897339\n",
      "dev error:  0.6890802383422852\n",
      "42 0.6823100447654724\n",
      "dev error:  0.6901907920837402\n",
      "43 0.6808930039405823\n",
      "dev error:  0.6925404071807861\n",
      "44 0.6785567998886108\n",
      "dev error:  0.6896284222602844\n",
      "45 0.6840918064117432\n",
      "dev error:  0.6883745193481445\n",
      "46 0.6802797317504883\n",
      "dev error:  0.6885813474655151\n",
      "47 0.683117151260376\n",
      "dev error:  0.6897029876708984\n",
      "48 0.6820438504219055\n",
      "dev error:  0.6904849410057068\n",
      "49 0.6800990700721741\n",
      "dev error:  0.6910420060157776\n",
      "50 0.6794782876968384\n",
      "dev error:  0.689886212348938\n"
     ]
    },
    {
     "data": {
      "image/png": "[encoded data removed]",
      "text/plain": [
       "<Figure size 432x288 with 1 Axes>"
      ]
     },
     "metadata": {
      "needs_background": "light"
     },
     "output_type": "display_data"
    },
    {
     "name": "stdout",
     "output_type": "stream",
     "text": [
      "best model after 40 epochs with dev set error 0.6882827877998352\n"
     ]
    }
   ],
   "source": [
    "# input features\n",
    "###\n",
    "idxs_speech = torch.arange(300, 381) # speech, 81\n",
    "\n",
    "device = torch.device(gpu_id if torch.cuda.is_available() else 'cpu')\n",
    "model = RNN(input_dim_speech=81, hidden_layer_size=256)\n",
    "model.to(device)\n",
    "\n",
    "optimiser = torch.optim.Adam(model.parameters(), lr=0.001, weight_decay=0.001)\n",
    "epochs = 500\n",
    "patience = 10\n",
    "\n",
    "print('step', 'error')\n",
    "dev_errors = []\n",
    "best_dev_error = np.inf\n",
    "errors = []\n",
    "num_bad_epochs = 0\n",
    "num_epochs = 0\n",
    "best_epoch = 0\n",
    "for epoch in range(1, epochs+1):\n",
    "    model.train()\n",
    "    for batch_idx, batch in enumerate(train_dataloader, 0):\n",
    "        x_p,x_c,y,hid,x_p_len=map(lambda x: x.to(device), batch)\n",
    "        optimiser.zero_grad()\n",
    "        output = model(x_p[:, :, idxs_speech], x_p_len)\n",
    "        error = torch.nn.functional.binary_cross_entropy_with_logits(output, y)\n",
    "        error.backward()\n",
    "        optimiser.step()\n",
    "    \n",
    "    print(epoch, error.detach().tolist())\n",
    "    errors.append(error.detach().tolist())\n",
    "\n",
    "    with torch.no_grad():\n",
    "        model.eval()\n",
    "        matches = 0\n",
    "        total = 0\n",
    "        for batch_idx, batch in enumerate(dev_dataloader, 0):\n",
    "            x_p,x_c,y,hid,x_p_len=map(lambda x: x.to(device), batch)\n",
    "            dev_output = model(x_p[:, :, idxs_speech], x_p_len)\n",
    "            dev_error = torch.nn.functional.binary_cross_entropy_with_logits(dev_output, y)\n",
    "        dev_errors.append(float(dev_error))\n",
    "        print('dev error: ', float(dev_error))\n",
    "\n",
    "    if dev_error < best_dev_error:\n",
    "        num_bad_epochs = 0\n",
    "        best_dev_error = dev_error\n",
    "        best_epoch = epoch\n",
    "        torch.save(model, 'punchline_net_speech.pth')\n",
    "    else:\n",
    "        num_bad_epochs += 1\n",
    "        if num_bad_epochs == patience:\n",
    "            num_epochs = epoch\n",
    "            break\n",
    "\n",
    "plt.plot(range(1, num_epochs+1), dev_errors, 'r', label='dev error')\n",
    "plt.plot(range(1, num_epochs+1), errors, 'b', label='train error')\n",
    "plt.title('train and dev error')\n",
    "plt.xlabel('epochs')\n",
    "plt.ylabel('error')\n",
    "plt.legend()\n",
    "plt.show()\n",
    "\n",
    "print('best model after {} epochs with dev set error {}'.format(best_epoch, best_dev_error))\n",
    "model = torch.load('punchline_net_speech.pth')"
   ]
  },
  {
   "cell_type": "code",
   "execution_count": 18,
   "metadata": {},
   "outputs": [
    {
     "name": "stderr",
     "output_type": "stream",
     "text": [
      "/tmp/ipykernel_3510474/4016921915.py:102: VisibleDeprecationWarning: Creating an ndarray from ragged nested sequences (which is a list-or-tuple of lists-or-tuples-or ndarrays with different lengths or shapes) is deprecated. If you meant to do this, you must specify 'dtype=object' when creating the ndarray.\n",
      "  context_w=np.array(self.language_sdk[hid]['context_embedding_indexes'])\n",
      "/tmp/ipykernel_3510474/4016921915.py:103: VisibleDeprecationWarning: Creating an ndarray from ragged nested sequences (which is a list-or-tuple of lists-or-tuples-or ndarrays with different lengths or shapes) is deprecated. If you meant to do this, you must specify 'dtype=object' when creating the ndarray.\n",
      "  context_of=np.array(self.word_aligned_openface_sdk[hid]['context_features'])\n",
      "/tmp/ipykernel_3510474/4016921915.py:104: VisibleDeprecationWarning: Creating an ndarray from ragged nested sequences (which is a list-or-tuple of lists-or-tuples-or ndarrays with different lengths or shapes) is deprecated. If you meant to do this, you must specify 'dtype=object' when creating the ndarray.\n",
      "  context_cvp=np.array(self.word_aligned_covarep_sdk[hid]['context_features'])\n"
     ]
    },
    {
     "name": "stdout",
     "output_type": "stream",
     "text": [
      "test error:  0.680260956287384\n",
      "test accuracy: 55.92%\n"
     ]
    }
   ],
   "source": [
    "hid_humor_t = {}\n",
    "hid_humor_f = {}\n",
    "hid_nonhumor_t = {}\n",
    "hid_nonhumor_f = {}\n",
    "\n",
    "with torch.no_grad():\n",
    "    matches = 0\n",
    "    total = 0\n",
    "    for batch_idx, batch in enumerate(test_dataloader, 0): \n",
    "        x_p,x_c,y,hid, x_p_len=map(lambda x: x.to(device), batch)\n",
    "        output = model(x_p[:, :, idxs_speech], x_p_len)\n",
    "        error = torch.nn.functional.binary_cross_entropy_with_logits(output, y)\n",
    "        scaled_outputs = torch.sigmoid(output)\n",
    "        predictions = (scaled_outputs > 0.5)*1\n",
    "        matches += (y == predictions).sum()\n",
    "        total += len(y)\n",
    "        for j, id in enumerate(hid.detach().tolist()):\n",
    "            if predictions[j] == 1 and y[j] == 1:\n",
    "                hid_humor_t[id] = scaled_outputs[j].detach().tolist()[0]\n",
    "            elif predictions[j] == 1 and y[j] == 0:\n",
    "                hid_humor_f[id] = scaled_outputs[j].detach().tolist()[0]\n",
    "            elif predictions[j] == 0 and y[j] == 0:\n",
    "                hid_nonhumor_t[id] = scaled_outputs[j].detach().tolist()[0]\n",
    "            elif predictions[j] == 0 and y[j] == 1:\n",
    "                hid_nonhumor_f[id] = scaled_outputs[j].detach().tolist()[0]\n",
    "            else:\n",
    "                print('something is wrong')\n",
    "    acc = matches / total\n",
    "    print('test error: ', float(error))\n",
    "    print('test accuracy: {:.2%}'.format(float(acc)))"
   ]
  },
  {
   "cell_type": "code",
   "execution_count": 19,
   "metadata": {},
   "outputs": [
    {
     "name": "stdout",
     "output_type": "stream",
     "text": [
      "252\n",
      "296\n",
      "194\n",
      "238\n",
      "the good news is i married her the next year\n",
      "so that's the blueprint of the house\n",
      "i'm not going to talk about that tonight\n",
      "but let's say for a moment that you were\n",
      "but i still have six and a half minutes\n",
      "\n",
      "there's nothing you can do\n",
      "you can experience their sense of place\n",
      "each point here represents all the complex microbes in an entire microbial community\n",
      "and imagine if through new scientific advances we were just beginning to understand its importance to how we think of ourselves\n",
      "i have to get out of here actually\n",
      "\n",
      "each year it sends up a new generation of shoots\n",
      "with this job all i needed were my hands and my massage table by my side and i could go anywhere\n",
      "that's what's going on\n",
      "it's more mundane\n",
      "they wouldn't have me\n",
      "\n",
      "all the others have been all those three\n",
      "a voodoo experiment\n",
      "i want the happy ending implied by the title to my article which is incidentally the only part of the article that i didn't actually write\n",
      "i'm a monkey blowing kisses at a butterfly\n",
      "and well we can report in fact that we're grandparents\n"
     ]
    }
   ],
   "source": [
    "print(len(hid_humor_t))\n",
    "print(len(hid_nonhumor_t))\n",
    "print(len(hid_humor_f))\n",
    "print(len(hid_nonhumor_f))\n",
    "\n",
    "language_sdk=load_pickle(\"language_sdk.pkl\")\n",
    "\n",
    "sorted_humor_t = {k: v for k, v in sorted(hid_humor_t.items(), key=lambda item: item[1], reverse=True)}\n",
    "sorted_nonhumor_t = {k: v for k, v in sorted(hid_nonhumor_t.items(), key=lambda item: item[1], reverse=True)}\n",
    "sorted_humor_f = {k: v for k, v in sorted(hid_humor_f.items(), key=lambda item: item[1], reverse=True)}\n",
    "sorted_nonhumor_f = {k: v for k, v in sorted(hid_nonhumor_f.items(), key=lambda item: item[1], reverse=True)}\n",
    "\n",
    "for hid, output in list(sorted_humor_t.items())[:5]:\n",
    "    print(language_sdk[hid]['punchline_sentence'])\n",
    "print()\n",
    "for hid, output in list(sorted_humor_f.items())[:5]:\n",
    "    print(language_sdk[hid]['punchline_sentence'])\n",
    "print()\n",
    "for hid, output in list(sorted_nonhumor_t.items())[:5]:\n",
    "    print(language_sdk[hid]['punchline_sentence'])\n",
    "print()\n",
    "for hid, output in list(sorted_nonhumor_f.items())[:5]:\n",
    "    print(language_sdk[hid]['punchline_sentence'])"
   ]
  }
 ],
 "metadata": {
  "interpreter": {
   "hash": "36cf16204b8548560b1c020c4e8fb5b57f0e4c58016f52f2d4be01e192833930"
  },
  "kernelspec": {
   "display_name": "Python 3.9.9 64-bit",
   "language": "python",
   "name": "python3"
  },
  "language_info": {
   "codemirror_mode": {
    "name": "ipython",
    "version": 3
   },
   "file_extension": ".py",
   "mimetype": "text/x-python",
   "name": "python",
   "nbconvert_exporter": "python",
   "pygments_lexer": "ipython3",
   "version": "3.9.10"
  },
  "orig_nbformat": 4
 },
 "nbformat": 4,
 "nbformat_minor": 2
}
