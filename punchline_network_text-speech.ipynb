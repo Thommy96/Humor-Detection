{
 "cells": [
  {
   "cell_type": "code",
   "execution_count": 1,
   "metadata": {},
   "outputs": [],
   "source": [
    "#imports\n",
    "import torch\n",
    "import numpy as np\n",
    "import matplotlib.pyplot as plt"
   ]
  },
  {
   "cell_type": "code",
   "execution_count": 2,
   "metadata": {},
   "outputs": [],
   "source": [
    "%run dataloader.ipynb"
   ]
  },
  {
   "cell_type": "code",
   "execution_count": 3,
   "metadata": {},
   "outputs": [],
   "source": [
    "batch_size=2600\n",
    "train_dataloader = DataLoader(train_set, collate_fn=collate_fn, batch_size=batch_size, shuffle=True)\n",
    "dev_dataloader = DataLoader(dev_set, collate_fn=collate_fn, batch_size=1000, shuffle=True)\n",
    "test_dataloader = DataLoader(test_set, collate_fn=collate_fn, batch_size=1000, shuffle=True)"
   ]
  },
  {
   "cell_type": "code",
   "execution_count": 4,
   "metadata": {},
   "outputs": [],
   "source": [
    "gpu_id = 'cuda:2'\n",
    "device = torch.device(gpu_id if torch.cuda.is_available() else 'cpu')"
   ]
  },
  {
   "cell_type": "code",
   "execution_count": 5,
   "metadata": {},
   "outputs": [],
   "source": [
    "# rnn\n",
    "class RNN(torch.nn.Module):\n",
    "\n",
    "    def __init__(self, input_dim_text, input_dim_speech, hidden_layer_size) -> None:\n",
    "        super().__init__()\n",
    "\n",
    "        self.text_rnn = torch.nn.LSTM(input_dim_text, hidden_layer_size, batch_first=True, num_layers=2, dropout=0.2)\n",
    "        self.speech_rnn = torch.nn.LSTM(input_dim_speech, hidden_layer_size, batch_first=True, num_layers=2, dropout=0.2)\n",
    "        self.dropout = torch.nn.Dropout(0.2)\n",
    "        self.linear = torch.nn.Linear(hidden_layer_size, 1)\n",
    "\n",
    "    def forward(self, x_text, x_speech, text_lens):\n",
    "        batch_size = x_text.shape[0]\n",
    "\n",
    "        interm_states_text, _ = self.text_rnn(x_text)\n",
    "        interm_states_speech, _ = self.speech_rnn(x_speech)\n",
    "\n",
    "        final_state_text = interm_states_text[torch.arange(batch_size), text_lens - 1, :]\n",
    "        final_state_speech = interm_states_speech[torch.arange(batch_size), text_lens - 1, :]\n",
    "\n",
    "        stacked = torch.stack((\n",
    "            final_state_text, \n",
    "            final_state_speech\n",
    "            ), dim=1)\n",
    "        pooled = torch.max(stacked, dim=1)[0]\n",
    "        h = self.dropout(pooled)\n",
    "        return self.linear(h)"
   ]
  },
  {
   "cell_type": "code",
   "execution_count": 6,
   "metadata": {},
   "outputs": [
    {
     "name": "stdout",
     "output_type": "stream",
     "text": [
      "step error\n"
     ]
    },
    {
     "name": "stderr",
     "output_type": "stream",
     "text": [
      "/tmp/ipykernel_3413152/4016921915.py:102: VisibleDeprecationWarning: Creating an ndarray from ragged nested sequences (which is a list-or-tuple of lists-or-tuples-or ndarrays with different lengths or shapes) is deprecated. If you meant to do this, you must specify 'dtype=object' when creating the ndarray.\n",
      "  context_w=np.array(self.language_sdk[hid]['context_embedding_indexes'])\n",
      "/tmp/ipykernel_3413152/4016921915.py:103: VisibleDeprecationWarning: Creating an ndarray from ragged nested sequences (which is a list-or-tuple of lists-or-tuples-or ndarrays with different lengths or shapes) is deprecated. If you meant to do this, you must specify 'dtype=object' when creating the ndarray.\n",
      "  context_of=np.array(self.word_aligned_openface_sdk[hid]['context_features'])\n",
      "/tmp/ipykernel_3413152/4016921915.py:104: VisibleDeprecationWarning: Creating an ndarray from ragged nested sequences (which is a list-or-tuple of lists-or-tuples-or ndarrays with different lengths or shapes) is deprecated. If you meant to do this, you must specify 'dtype=object' when creating the ndarray.\n",
      "  context_cvp=np.array(self.word_aligned_covarep_sdk[hid]['context_features'])\n"
     ]
    },
    {
     "name": "stdout",
     "output_type": "stream",
     "text": [
      "1 0.6924474239349365\n",
      "dev error:  0.6923143863677979\n",
      "2 0.6922346353530884\n",
      "dev error:  0.691839873790741\n",
      "3 0.6909096240997314\n",
      "dev error:  0.6910250186920166\n",
      "4 0.6899012923240662\n",
      "dev error:  0.6899558305740356\n",
      "5 0.6880752444267273\n",
      "dev error:  0.6884116530418396\n",
      "6 0.6858342289924622\n",
      "dev error:  0.6859463453292847\n",
      "7 0.6793818473815918\n",
      "dev error:  0.6816891431808472\n",
      "8 0.6654880046844482\n",
      "dev error:  0.6764957904815674\n",
      "9 0.658271074295044\n",
      "dev error:  0.6739716529846191\n",
      "10 0.6527717113494873\n",
      "dev error:  0.6782445907592773\n",
      "11 0.6661831140518188\n",
      "dev error:  0.6716827154159546\n",
      "12 0.6425116062164307\n",
      "dev error:  0.6655011773109436\n",
      "13 0.6436248421669006\n",
      "dev error:  0.6650757193565369\n",
      "14 0.6347373127937317\n",
      "dev error:  0.6629274487495422\n",
      "15 0.6349993944168091\n",
      "dev error:  0.6641308069229126\n",
      "16 0.6340296864509583\n",
      "dev error:  0.6601534485816956\n",
      "17 0.6316373944282532\n",
      "dev error:  0.6576272249221802\n",
      "18 0.6342479586601257\n",
      "dev error:  0.6569578051567078\n",
      "19 0.6299755573272705\n",
      "dev error:  0.6621955633163452\n",
      "20 0.6251382827758789\n",
      "dev error:  0.6578965187072754\n",
      "21 0.6206521391868591\n",
      "dev error:  0.6576276421546936\n",
      "22 0.6318777203559875\n",
      "dev error:  0.6624047160148621\n",
      "23 0.622250497341156\n",
      "dev error:  0.6562841534614563\n",
      "24 0.623973548412323\n",
      "dev error:  0.6569773554801941\n",
      "25 0.6166355013847351\n",
      "dev error:  0.6573028564453125\n",
      "26 0.6239162683486938\n",
      "dev error:  0.6558867692947388\n",
      "27 0.6241042613983154\n",
      "dev error:  0.6584095358848572\n",
      "28 0.6257649660110474\n",
      "dev error:  0.6566576361656189\n",
      "29 0.6225125789642334\n",
      "dev error:  0.6619865298271179\n",
      "30 0.6136748194694519\n",
      "dev error:  0.6598286032676697\n",
      "31 0.6187824606895447\n",
      "dev error:  0.6687624454498291\n",
      "32 0.608928918838501\n",
      "dev error:  0.6605416536331177\n",
      "33 0.613877534866333\n",
      "dev error:  0.6584113240242004\n",
      "34 0.6081495881080627\n",
      "dev error:  0.6590009331703186\n",
      "35 0.6027257442474365\n",
      "dev error:  0.6614197492599487\n",
      "36 0.6272778511047363\n",
      "dev error:  0.6576042175292969\n"
     ]
    },
    {
     "data": {
      "image/png": "[encoded data removed]",
      "text/plain": [
       "<Figure size 432x288 with 1 Axes>"
      ]
     },
     "metadata": {
      "needs_background": "light"
     },
     "output_type": "display_data"
    },
    {
     "name": "stdout",
     "output_type": "stream",
     "text": [
      "best model after 26 epochs with dev set error 0.6558867692947388\n"
     ]
    }
   ],
   "source": [
    "# input features\n",
    "###\n",
    "idxs_text = torch.arange(300) # text, 300\n",
    "idxs_speech = torch.arange(300, 381) # speech, 81\n",
    "\n",
    "device = torch.device(gpu_id if torch.cuda.is_available() else 'cpu')\n",
    "model = RNN(input_dim_text=300, input_dim_speech=81, hidden_layer_size=256)\n",
    "model.to(device)\n",
    "\n",
    "optimiser = torch.optim.Adam(model.parameters(), lr=0.001, weight_decay=0.002)\n",
    "epochs = 100\n",
    "patience = 10\n",
    "\n",
    "print('step', 'error')\n",
    "dev_errors = []\n",
    "best_dev_error = np.inf\n",
    "errors = []\n",
    "num_bad_epochs = 0\n",
    "num_epochs = 0\n",
    "best_epoch = 0\n",
    "for epoch in range(1, epochs+1):\n",
    "    model.train()\n",
    "    for batch_idx, batch in enumerate(train_dataloader, 0):\n",
    "        x_p,x_c,y,hid,x_p_len=map(lambda x: x.to(device), batch)\n",
    "        optimiser.zero_grad()\n",
    "        output = model(x_p[:, :, idxs_text], x_p[:, :, idxs_speech], x_p_len)\n",
    "        error = torch.nn.functional.binary_cross_entropy_with_logits(output, y)\n",
    "        error.backward()\n",
    "        optimiser.step()\n",
    "    \n",
    "    print(epoch, error.detach().tolist())\n",
    "    errors.append(error.detach().tolist())\n",
    "\n",
    "    with torch.no_grad():\n",
    "        model.eval()\n",
    "        matches = 0\n",
    "        total = 0\n",
    "        for batch_idx, batch in enumerate(dev_dataloader, 0):\n",
    "            x_p,x_c,y,hid,x_p_len=map(lambda x: x.to(device), batch)\n",
    "            dev_output = model(x_p[:, :, idxs_text], x_p[:, :, idxs_speech], x_p_len)\n",
    "            dev_error = torch.nn.functional.binary_cross_entropy_with_logits(dev_output, y)\n",
    "        dev_errors.append(float(dev_error))\n",
    "        print('dev error: ', float(dev_error))\n",
    "\n",
    "    if dev_error < best_dev_error:\n",
    "        num_bad_epochs = 0\n",
    "        best_dev_error = dev_error\n",
    "        best_epoch = epoch\n",
    "        torch.save(model, 'punchline_net_text-speech.pth')\n",
    "    else:\n",
    "        num_bad_epochs += 1\n",
    "        if num_bad_epochs == patience:\n",
    "            num_epochs = epoch\n",
    "            break\n",
    "\n",
    "plt.plot(range(1, num_epochs+1), dev_errors, 'r', label='dev error')\n",
    "plt.plot(range(1, num_epochs+1), errors, 'b', label='train error')\n",
    "plt.title('train and dev error')\n",
    "plt.xlabel('epochs')\n",
    "plt.ylabel('error')\n",
    "plt.legend()\n",
    "plt.show()\n",
    "\n",
    "print('best model after {} epochs with dev set error {}'.format(best_epoch, best_dev_error))\n",
    "model = torch.load('punchline_net_text-speech.pth')"
   ]
  },
  {
   "cell_type": "code",
   "execution_count": 9,
   "metadata": {},
   "outputs": [
    {
     "name": "stderr",
     "output_type": "stream",
     "text": [
      "/tmp/ipykernel_3413152/4016921915.py:102: VisibleDeprecationWarning: Creating an ndarray from ragged nested sequences (which is a list-or-tuple of lists-or-tuples-or ndarrays with different lengths or shapes) is deprecated. If you meant to do this, you must specify 'dtype=object' when creating the ndarray.\n",
      "  context_w=np.array(self.language_sdk[hid]['context_embedding_indexes'])\n",
      "/tmp/ipykernel_3413152/4016921915.py:103: VisibleDeprecationWarning: Creating an ndarray from ragged nested sequences (which is a list-or-tuple of lists-or-tuples-or ndarrays with different lengths or shapes) is deprecated. If you meant to do this, you must specify 'dtype=object' when creating the ndarray.\n",
      "  context_of=np.array(self.word_aligned_openface_sdk[hid]['context_features'])\n",
      "/tmp/ipykernel_3413152/4016921915.py:104: VisibleDeprecationWarning: Creating an ndarray from ragged nested sequences (which is a list-or-tuple of lists-or-tuples-or ndarrays with different lengths or shapes) is deprecated. If you meant to do this, you must specify 'dtype=object' when creating the ndarray.\n",
      "  context_cvp=np.array(self.word_aligned_covarep_sdk[hid]['context_features'])\n"
     ]
    },
    {
     "name": "stdout",
     "output_type": "stream",
     "text": [
      "test error:  0.639680027961731\n",
      "test accuracy: 64.29%\n"
     ]
    }
   ],
   "source": [
    "hid_humor_t = {}\n",
    "hid_humor_f = {}\n",
    "hid_nonhumor_t = {}\n",
    "hid_nonhumor_f = {}\n",
    "\n",
    "with torch.no_grad():\n",
    "    matches = 0\n",
    "    total = 0\n",
    "    for batch_idx, batch in enumerate(test_dataloader, 0): \n",
    "        x_p,x_c,y,hid, x_p_len=map(lambda x: x.to(device), batch)\n",
    "        output = model(x_p[:, :, idxs_text], x_p[:, :, idxs_speech], x_p_len)\n",
    "        error = torch.nn.functional.binary_cross_entropy_with_logits(output, y)\n",
    "        scaled_outputs = torch.sigmoid(output)\n",
    "        predictions = (scaled_outputs > 0.5)*1\n",
    "        matches += (y == predictions).sum()\n",
    "        total += len(y)\n",
    "        for j, id in enumerate(hid.detach().tolist()):\n",
    "            if predictions[j] == 1 and y[j] == 1:\n",
    "                hid_humor_t[id] = scaled_outputs[j].detach().tolist()[0]\n",
    "            elif predictions[j] == 1 and y[j] == 0:\n",
    "                hid_humor_f[id] = scaled_outputs[j].detach().tolist()[0]\n",
    "            elif predictions[j] == 0 and y[j] == 0:\n",
    "                hid_nonhumor_t[id] = scaled_outputs[j].detach().tolist()[0]\n",
    "            elif predictions[j] == 0 and y[j] == 1:\n",
    "                hid_nonhumor_f[id] = scaled_outputs[j].detach().tolist()[0]\n",
    "            else:\n",
    "                print('something is wrong')\n",
    "    acc = matches / total\n",
    "    print('test error: ', float(error))\n",
    "    print('test accuracy: {:.2%}'.format(float(acc)))"
   ]
  },
  {
   "cell_type": "code",
   "execution_count": 8,
   "metadata": {},
   "outputs": [
    {
     "name": "stdout",
     "output_type": "stream",
     "text": [
      "326\n",
      "304\n",
      "186\n",
      "164\n",
      "so had the graduate heard the right one word maybe he would have ended up onstage oh i don't know maybe with these two\n",
      "and as the saying goes when angry you will make the best speech you will ever regret\n",
      "no slouching no pants hanging down none of that stuff\n",
      "this mouthing behavior on the right was really her way of saying to him hey look how big i am or you know my what big teeth you have\n",
      "i'm going to go ahead and say it out loud anyway are hideous\n",
      "\n",
      "oh let me kind of tell you a funny little play bit\n",
      "it's also good news if you want to browse for illegal pornography and if you want to buy and sell drugs with impunity\n",
      "so when you're watching a movie and a phone rings it's not actually ringing\n",
      "so even though china's is a totally censored internet but still chinese internet society is really booming\n",
      "but on the other side of that predatory gaze is a female husky in a play bow wagging her tail\n",
      "\n",
      "let me just give you an example from a recent study that we conducted\n",
      "many of you have probably heard about so i'll just say briefly that is a tool that allows researchers to edit genes very precisely easily and quickly\n",
      "we got back on shore he was fine\n",
      "and i think things like the dark net markets creative secure difficult to censor i think that's the future\n",
      "in lebanon it was not a book\n",
      "\n",
      "they blew up\n",
      "last year we did a dance in zero gravity and once we set up an obstacle course out of thousands of musical instruments in the desert and then played them by stunt driving a car through them\n",
      "this is your life enjoy it\n",
      "you're four\n",
      "i arranged for his plane to be delayed\n"
     ]
    }
   ],
   "source": [
    "print(len(hid_humor_t))\n",
    "print(len(hid_nonhumor_t))\n",
    "print(len(hid_humor_f))\n",
    "print(len(hid_nonhumor_f))\n",
    "\n",
    "language_sdk=load_pickle(\"language_sdk.pkl\")\n",
    "\n",
    "sorted_humor_t = {k: v for k, v in sorted(hid_humor_t.items(), key=lambda item: item[1], reverse=True)}\n",
    "sorted_nonhumor_t = {k: v for k, v in sorted(hid_nonhumor_t.items(), key=lambda item: item[1], reverse=True)}\n",
    "sorted_humor_f = {k: v for k, v in sorted(hid_humor_f.items(), key=lambda item: item[1], reverse=True)}\n",
    "sorted_nonhumor_f = {k: v for k, v in sorted(hid_nonhumor_f.items(), key=lambda item: item[1], reverse=True)}\n",
    "\n",
    "for hid, output in list(sorted_humor_t.items())[:5]:\n",
    "    print(language_sdk[hid]['punchline_sentence'])\n",
    "print()\n",
    "for hid, output in list(sorted_humor_f.items())[:5]:\n",
    "    print(language_sdk[hid]['punchline_sentence'])\n",
    "print()\n",
    "for hid, output in list(sorted_nonhumor_t.items())[:5]:\n",
    "    print(language_sdk[hid]['punchline_sentence'])\n",
    "print()\n",
    "for hid, output in list(sorted_nonhumor_f.items())[:5]:\n",
    "    print(language_sdk[hid]['punchline_sentence'])"
   ]
  }
 ],
 "metadata": {
  "interpreter": {
   "hash": "36cf16204b8548560b1c020c4e8fb5b57f0e4c58016f52f2d4be01e192833930"
  },
  "kernelspec": {
   "display_name": "Python 3.9.9 64-bit",
   "language": "python",
   "name": "python3"
  },
  "language_info": {
   "codemirror_mode": {
    "name": "ipython",
    "version": 3
   },
   "file_extension": ".py",
   "mimetype": "text/x-python",
   "name": "python",
   "nbconvert_exporter": "python",
   "pygments_lexer": "ipython3",
   "version": "3.9.10"
  },
  "orig_nbformat": 4
 },
 "nbformat": 4,
 "nbformat_minor": 2
}
