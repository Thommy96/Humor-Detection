{
 "cells": [
  {
   "cell_type": "code",
   "execution_count": 1,
   "metadata": {},
   "outputs": [],
   "source": [
    "#imports\n",
    "import torch\n",
    "import numpy as np\n",
    "import matplotlib.pyplot as plt"
   ]
  },
  {
   "cell_type": "code",
   "execution_count": 2,
   "metadata": {},
   "outputs": [],
   "source": [
    "%run dataloader.ipynb"
   ]
  },
  {
   "cell_type": "code",
   "execution_count": 3,
   "metadata": {},
   "outputs": [],
   "source": [
    "batch_size=2600\n",
    "train_dataloader = DataLoader(train_set, collate_fn=collate_fn, batch_size=batch_size, shuffle=True)\n",
    "dev_dataloader = DataLoader(dev_set, collate_fn=collate_fn, batch_size=1000, shuffle=True)\n",
    "test_dataloader = DataLoader(test_set, collate_fn=collate_fn, batch_size=1000, shuffle=True)"
   ]
  },
  {
   "cell_type": "code",
   "execution_count": 4,
   "metadata": {},
   "outputs": [],
   "source": [
    "gpu_id = 'cuda:6'\n",
    "device = torch.device(gpu_id if torch.cuda.is_available() else 'cpu')"
   ]
  },
  {
   "cell_type": "code",
   "execution_count": 10,
   "metadata": {},
   "outputs": [],
   "source": [
    "# rnn\n",
    "class RNN(torch.nn.Module):\n",
    "\n",
    "    def __init__(self, input_dim_text, input_dim_visual, hidden_layer_size) -> None:\n",
    "        super().__init__()\n",
    "\n",
    "        self.text_rnn = torch.nn.LSTM(input_dim_text, hidden_layer_size, batch_first=True, num_layers=2, dropout=0.2)\n",
    "        self.visual_rnn = torch.nn.LSTM(input_dim_visual, hidden_layer_size, batch_first=True, num_layers=2, dropout=0.2)\n",
    "        self.dropout = torch.nn.Dropout(0.2)\n",
    "        self.linear = torch.nn.Linear(hidden_layer_size, 1)\n",
    "\n",
    "    def forward(self, x_text, x_visual, text_lens):\n",
    "        batch_size = x_text.shape[0]\n",
    "\n",
    "        interm_states_text, _ = self.text_rnn(x_text)\n",
    "        interm_states_visual, _ = self.visual_rnn(x_visual)\n",
    "\n",
    "        final_state_text = interm_states_text[torch.arange(batch_size), text_lens - 1, :]\n",
    "        final_state_visual = interm_states_visual[torch.arange(batch_size), text_lens - 1, :]\n",
    "\n",
    "        stacked = torch.stack((\n",
    "            final_state_text,\n",
    "            final_state_visual\n",
    "            ), dim=1)\n",
    "        pooled = torch.max(stacked, dim=1)[0]\n",
    "        h = self.dropout(pooled)\n",
    "        return self.linear(h)"
   ]
  },
  {
   "cell_type": "code",
   "execution_count": 11,
   "metadata": {},
   "outputs": [
    {
     "name": "stdout",
     "output_type": "stream",
     "text": [
      "step error\n"
     ]
    },
    {
     "name": "stderr",
     "output_type": "stream",
     "text": [
      "/tmp/ipykernel_3407687/4016921915.py:102: VisibleDeprecationWarning: Creating an ndarray from ragged nested sequences (which is a list-or-tuple of lists-or-tuples-or ndarrays with different lengths or shapes) is deprecated. If you meant to do this, you must specify 'dtype=object' when creating the ndarray.\n",
      "  context_w=np.array(self.language_sdk[hid]['context_embedding_indexes'])\n",
      "/tmp/ipykernel_3407687/4016921915.py:103: VisibleDeprecationWarning: Creating an ndarray from ragged nested sequences (which is a list-or-tuple of lists-or-tuples-or ndarrays with different lengths or shapes) is deprecated. If you meant to do this, you must specify 'dtype=object' when creating the ndarray.\n",
      "  context_of=np.array(self.word_aligned_openface_sdk[hid]['context_features'])\n",
      "/tmp/ipykernel_3407687/4016921915.py:104: VisibleDeprecationWarning: Creating an ndarray from ragged nested sequences (which is a list-or-tuple of lists-or-tuples-or ndarrays with different lengths or shapes) is deprecated. If you meant to do this, you must specify 'dtype=object' when creating the ndarray.\n",
      "  context_cvp=np.array(self.word_aligned_covarep_sdk[hid]['context_features'])\n"
     ]
    },
    {
     "name": "stdout",
     "output_type": "stream",
     "text": [
      "1 0.6909162402153015\n",
      "dev error:  0.6920652985572815\n",
      "2 0.6887639164924622\n",
      "dev error:  0.6913523077964783\n",
      "3 0.6881294250488281\n",
      "dev error:  0.6902564167976379\n",
      "4 0.6852547526359558\n",
      "dev error:  0.6889475584030151\n",
      "5 0.6807441115379333\n",
      "dev error:  0.6874703168869019\n",
      "6 0.6778036952018738\n",
      "dev error:  0.6854468584060669\n",
      "7 0.6726539134979248\n",
      "dev error:  0.6827759742736816\n",
      "8 0.663693368434906\n",
      "dev error:  0.6790056228637695\n",
      "9 0.6546732187271118\n",
      "dev error:  0.6751396059989929\n",
      "10 0.6498031616210938\n",
      "dev error:  0.6747947931289673\n",
      "11 0.636924684047699\n",
      "dev error:  0.6788131594657898\n",
      "12 0.6455976366996765\n",
      "dev error:  0.667769730091095\n",
      "13 0.6356145739555359\n",
      "dev error:  0.6627558469772339\n",
      "14 0.6241467595100403\n",
      "dev error:  0.661045491695404\n",
      "15 0.6257359981536865\n",
      "dev error:  0.6585671901702881\n",
      "16 0.6230409741401672\n",
      "dev error:  0.6692802906036377\n",
      "17 0.6291804313659668\n",
      "dev error:  0.6688219308853149\n",
      "18 0.6296421885490417\n",
      "dev error:  0.6604267358779907\n",
      "19 0.6320017576217651\n",
      "dev error:  0.6644477248191833\n",
      "20 0.6321601271629333\n",
      "dev error:  0.658357560634613\n",
      "21 0.6134635210037231\n",
      "dev error:  0.6608356833457947\n",
      "22 0.6287370324134827\n",
      "dev error:  0.6583950519561768\n",
      "23 0.6074029803276062\n",
      "dev error:  0.6575693488121033\n",
      "24 0.6093980669975281\n",
      "dev error:  0.6549975275993347\n",
      "25 0.6138917207717896\n",
      "dev error:  0.6575286388397217\n",
      "26 0.6088205575942993\n",
      "dev error:  0.6651049852371216\n",
      "27 0.6164981722831726\n",
      "dev error:  0.6551045179367065\n",
      "28 0.6181113719940186\n",
      "dev error:  0.6552503108978271\n",
      "29 0.6062386631965637\n",
      "dev error:  0.665117621421814\n",
      "30 0.6114643812179565\n",
      "dev error:  0.6559523344039917\n",
      "31 0.6132676601409912\n",
      "dev error:  0.6548278331756592\n",
      "32 0.6076158285140991\n",
      "dev error:  0.6614489555358887\n",
      "33 0.6059750318527222\n",
      "dev error:  0.6572288870811462\n",
      "34 0.5899787545204163\n",
      "dev error:  0.6573706865310669\n",
      "35 0.6022475361824036\n",
      "dev error:  0.6560672521591187\n",
      "36 0.6076198816299438\n",
      "dev error:  0.6679466962814331\n",
      "37 0.6058061718940735\n",
      "dev error:  0.654932975769043\n",
      "38 0.6020493507385254\n",
      "dev error:  0.6571658849716187\n",
      "39 0.6043870449066162\n",
      "dev error:  0.6575760245323181\n",
      "40 0.5962089896202087\n",
      "dev error:  0.6634071469306946\n",
      "41 0.5937802195549011\n",
      "dev error:  0.657285213470459\n"
     ]
    },
    {
     "data": {
      "image/png": "[encoded data removed]",
      "text/plain": [
       "<Figure size 432x288 with 1 Axes>"
      ]
     },
     "metadata": {
      "needs_background": "light"
     },
     "output_type": "display_data"
    },
    {
     "name": "stdout",
     "output_type": "stream",
     "text": [
      "best model after 31 epochs with dev set error 0.6548278331756592\n"
     ]
    }
   ],
   "source": [
    "# input features\n",
    "###\n",
    "idxs_text = torch.arange(300) # text, 300\n",
    "idxs_visual = torch.arange(381, 752) # visual, 371\n",
    "\n",
    "device = torch.device(gpu_id if torch.cuda.is_available() else 'cpu')\n",
    "model = RNN(input_dim_text=300, input_dim_visual=371, hidden_layer_size=256)\n",
    "model.to(device)\n",
    "\n",
    "optimiser = torch.optim.Adam(model.parameters(), lr=0.001, weight_decay=0.002)\n",
    "epochs = 100\n",
    "patience = 10\n",
    "\n",
    "print('step', 'error')\n",
    "dev_errors = []\n",
    "best_dev_error = np.inf\n",
    "errors = []\n",
    "num_bad_epochs = 0\n",
    "num_epochs = 0\n",
    "best_epoch = 0\n",
    "for epoch in range(1, epochs+1):\n",
    "    model.train()\n",
    "    for batch_idx, batch in enumerate(train_dataloader, 0):\n",
    "        x_p,x_c,y,hid,x_p_len=map(lambda x: x.to(device), batch)\n",
    "        optimiser.zero_grad()\n",
    "        output = model(x_p[:, :, idxs_text], x_p[:, :, idxs_visual], x_p_len)\n",
    "        error = torch.nn.functional.binary_cross_entropy_with_logits(output, y)\n",
    "        error.backward()\n",
    "        optimiser.step()\n",
    "    \n",
    "    print(epoch, error.detach().tolist())\n",
    "    errors.append(error.detach().tolist())\n",
    "\n",
    "    with torch.no_grad():\n",
    "        model.eval()\n",
    "        matches = 0\n",
    "        total = 0\n",
    "        for batch_idx, batch in enumerate(dev_dataloader, 0):\n",
    "            x_p,x_c,y,hid,x_p_len=map(lambda x: x.to(device), batch)\n",
    "            dev_output = model(x_p[:, :, idxs_text], x_p[:, :, idxs_visual], x_p_len)\n",
    "            dev_error = torch.nn.functional.binary_cross_entropy_with_logits(dev_output, y)\n",
    "        dev_errors.append(float(dev_error))\n",
    "        print('dev error: ', float(dev_error))\n",
    "\n",
    "    if dev_error < best_dev_error:\n",
    "        num_bad_epochs = 0\n",
    "        best_dev_error = dev_error\n",
    "        best_epoch = epoch\n",
    "        torch.save(model, 'punchline_net_text-visual.pth')\n",
    "    else:\n",
    "        num_bad_epochs += 1\n",
    "        if num_bad_epochs == patience:\n",
    "            num_epochs = epoch\n",
    "            break\n",
    "\n",
    "plt.plot(range(1, num_epochs+1), dev_errors, 'r', label='dev error')\n",
    "plt.plot(range(1, num_epochs+1), errors, 'b', label='train error')\n",
    "plt.title('train and dev error')\n",
    "plt.xlabel('epochs')\n",
    "plt.ylabel('error')\n",
    "plt.legend()\n",
    "plt.show()\n",
    "\n",
    "print('best model after {} epochs with dev set error {}'.format(best_epoch, best_dev_error))\n",
    "model = torch.load('punchline_net_text-visual.pth')"
   ]
  },
  {
   "cell_type": "code",
   "execution_count": 12,
   "metadata": {},
   "outputs": [
    {
     "name": "stderr",
     "output_type": "stream",
     "text": [
      "/tmp/ipykernel_3407687/4016921915.py:102: VisibleDeprecationWarning: Creating an ndarray from ragged nested sequences (which is a list-or-tuple of lists-or-tuples-or ndarrays with different lengths or shapes) is deprecated. If you meant to do this, you must specify 'dtype=object' when creating the ndarray.\n",
      "  context_w=np.array(self.language_sdk[hid]['context_embedding_indexes'])\n",
      "/tmp/ipykernel_3407687/4016921915.py:103: VisibleDeprecationWarning: Creating an ndarray from ragged nested sequences (which is a list-or-tuple of lists-or-tuples-or ndarrays with different lengths or shapes) is deprecated. If you meant to do this, you must specify 'dtype=object' when creating the ndarray.\n",
      "  context_of=np.array(self.word_aligned_openface_sdk[hid]['context_features'])\n",
      "/tmp/ipykernel_3407687/4016921915.py:104: VisibleDeprecationWarning: Creating an ndarray from ragged nested sequences (which is a list-or-tuple of lists-or-tuples-or ndarrays with different lengths or shapes) is deprecated. If you meant to do this, you must specify 'dtype=object' when creating the ndarray.\n",
      "  context_cvp=np.array(self.word_aligned_covarep_sdk[hid]['context_features'])\n"
     ]
    },
    {
     "name": "stdout",
     "output_type": "stream",
     "text": [
      "test error:  0.6293815970420837\n",
      "test accuracy: 65.00%\n"
     ]
    }
   ],
   "source": [
    "hid_humor_t = {}\n",
    "hid_humor_f = {}\n",
    "hid_nonhumor_t = {}\n",
    "hid_nonhumor_f = {}\n",
    "\n",
    "with torch.no_grad():\n",
    "    matches = 0\n",
    "    total = 0\n",
    "    for batch_idx, batch in enumerate(test_dataloader, 0): \n",
    "        x_p,x_c,y,hid, x_p_len=map(lambda x: x.to(device), batch)\n",
    "        output = model(x_p[:, :, idxs_text], x_p[:, :, idxs_visual], x_p_len)\n",
    "        error = torch.nn.functional.binary_cross_entropy_with_logits(output, y)\n",
    "        scaled_outputs = torch.sigmoid(output)\n",
    "        predictions = (scaled_outputs > 0.5)*1\n",
    "        matches += (y == predictions).sum()\n",
    "        total += len(y)\n",
    "        for j, id in enumerate(hid.detach().tolist()):\n",
    "            if predictions[j] == 1 and y[j] == 1:\n",
    "                hid_humor_t[id] = scaled_outputs[j].detach().tolist()[0]\n",
    "            elif predictions[j] == 1 and y[j] == 0:\n",
    "                hid_humor_f[id] = scaled_outputs[j].detach().tolist()[0]\n",
    "            elif predictions[j] == 0 and y[j] == 0:\n",
    "                hid_nonhumor_t[id] = scaled_outputs[j].detach().tolist()[0]\n",
    "            elif predictions[j] == 0 and y[j] == 1:\n",
    "                hid_nonhumor_f[id] = scaled_outputs[j].detach().tolist()[0]\n",
    "            else:\n",
    "                print('something is wrong')\n",
    "    acc = matches / total\n",
    "    print('test error: ', float(error))\n",
    "    print('test accuracy: {:.2%}'.format(float(acc)))"
   ]
  },
  {
   "cell_type": "code",
   "execution_count": 13,
   "metadata": {},
   "outputs": [
    {
     "name": "stdout",
     "output_type": "stream",
     "text": [
      "347\n",
      "290\n",
      "200\n",
      "143\n",
      "so had the graduate heard the right one word maybe he would have ended up onstage oh i don't know maybe with these two\n",
      "this is why spouses in happy marriages tend to think that their husband or wife looks much better than anyone else thinks that they do\n",
      "and as the saying goes when angry you will make the best speech you will ever regret\n",
      "we had one government agency and one company aircraft operator say you're crazy don't do that you're going kill the guy\n",
      "if you want to remember one thing it's that you can't fetch the coffee if you're dead\n",
      "\n",
      "oh let me kind of tell you a funny little play bit\n",
      "i would have told you myself that i was the last person on earth who would stay with a man who beats me but in fact i was a very typical victim because of my age\n",
      "it's also good news if you want to browse for illegal pornography and if you want to buy and sell drugs with impunity\n",
      "but if you think the is something like a wasteland i think it's wrong\n",
      "ok but don't say my name like that\n",
      "\n",
      "so i learned to follow hunches even though you can't necessarily justify them or know where they're going to go\n",
      "this is the final product\n",
      "and they weren't flashing in anger they were flashing in love intense love for her students\n",
      "he gathered his participants and said i'm going to time you how quickly you can solve this problem\n",
      "we got back on shore he was fine\n",
      "\n",
      "so no matter how lazy you feel you're not really intrinsically doing nothing\n",
      "they're not very well designed\n",
      "and all we've got is a\n",
      "right so a bit of trivia about that era for you\n",
      "and only when you feel the pressure go back allow your hand to drift back to the tabletop but only when you feel the pressure\n"
     ]
    }
   ],
   "source": [
    "print(len(hid_humor_t))\n",
    "print(len(hid_nonhumor_t))\n",
    "print(len(hid_humor_f))\n",
    "print(len(hid_nonhumor_f))\n",
    "\n",
    "language_sdk=load_pickle(\"language_sdk.pkl\")\n",
    "\n",
    "sorted_humor_t = {k: v for k, v in sorted(hid_humor_t.items(), key=lambda item: item[1], reverse=True)}\n",
    "sorted_nonhumor_t = {k: v for k, v in sorted(hid_nonhumor_t.items(), key=lambda item: item[1], reverse=True)}\n",
    "sorted_humor_f = {k: v for k, v in sorted(hid_humor_f.items(), key=lambda item: item[1], reverse=True)}\n",
    "sorted_nonhumor_f = {k: v for k, v in sorted(hid_nonhumor_f.items(), key=lambda item: item[1], reverse=True)}\n",
    "\n",
    "for hid, output in list(sorted_humor_t.items())[:5]:\n",
    "    print(language_sdk[hid]['punchline_sentence'])\n",
    "print()\n",
    "for hid, output in list(sorted_humor_f.items())[:5]:\n",
    "    print(language_sdk[hid]['punchline_sentence'])\n",
    "print()\n",
    "for hid, output in list(sorted_nonhumor_t.items())[:5]:\n",
    "    print(language_sdk[hid]['punchline_sentence'])\n",
    "print()\n",
    "for hid, output in list(sorted_nonhumor_f.items())[:5]:\n",
    "    print(language_sdk[hid]['punchline_sentence'])"
   ]
  }
 ],
 "metadata": {
  "interpreter": {
   "hash": "36cf16204b8548560b1c020c4e8fb5b57f0e4c58016f52f2d4be01e192833930"
  },
  "kernelspec": {
   "display_name": "Python 3.9.9 64-bit",
   "language": "python",
   "name": "python3"
  },
  "language_info": {
   "codemirror_mode": {
    "name": "ipython",
    "version": 3
   },
   "file_extension": ".py",
   "mimetype": "text/x-python",
   "name": "python",
   "nbconvert_exporter": "python",
   "pygments_lexer": "ipython3",
   "version": "3.9.10"
  },
  "orig_nbformat": 4
 },
 "nbformat": 4,
 "nbformat_minor": 2
}
