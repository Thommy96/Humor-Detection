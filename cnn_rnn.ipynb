{
 "cells": [
  {
   "cell_type": "code",
   "execution_count": 1,
   "metadata": {},
   "outputs": [],
   "source": [
    "#imports\n",
    "import torch\n",
    "import numpy as np\n",
    "import matplotlib.pyplot as plt\n",
    "import random\n",
    "import math"
   ]
  },
  {
   "cell_type": "code",
   "execution_count": 2,
   "metadata": {},
   "outputs": [
    {
     "name": "stdout",
     "output_type": "stream",
     "text": [
      "train size:  7614\n",
      "dev size:  980\n",
      "test size:  994\n"
     ]
    }
   ],
   "source": [
    "%run dataloader.ipynb"
   ]
  },
  {
   "cell_type": "code",
   "execution_count": 3,
   "metadata": {},
   "outputs": [],
   "source": [
    "batch_size=500\n",
    "train_dataloader = DataLoader(train_set, collate_fn=collate_fn, batch_size=batch_size, shuffle=True)\n",
    "dev_dataloader = DataLoader(dev_set, collate_fn=collate_fn, batch_size=batch_size, shuffle=True)\n",
    "test_dataloader = DataLoader(test_set, collate_fn=collate_fn, batch_size=batch_size, shuffle=True)"
   ]
  },
  {
   "cell_type": "code",
   "execution_count": 4,
   "metadata": {},
   "outputs": [],
   "source": [
    "gpu_id = 'cuda:1'\n",
    "device = torch.device(gpu_id if torch.cuda.is_available() else 'cpu')"
   ]
  },
  {
   "cell_type": "code",
   "execution_count": 5,
   "metadata": {},
   "outputs": [],
   "source": [
    "# cnn+rnn\n",
    "class CNN_RNN(torch.nn.Module):\n",
    "\n",
    "    def __init__(self, hidden_layer_size_1, window_size_1, hidden_layer_size_2) -> None:\n",
    "        super().__init__()\n",
    "        self.window_size_1 = window_size_1\n",
    "        self.w1 = torch.nn.Parameter(torch.tensor(np.random.normal(0.0, 1.0, (hidden_layer_size_1, 300, window_size_1)), dtype=torch.float32))\n",
    "        self.b1 = torch.nn.Parameter(torch.zeros((hidden_layer_size_1,), dtype=torch.float32))\n",
    "        self.rnn1_s0 = torch.nn.Parameter(torch.tensor(np.random.normal(0.0, 1.0, (hidden_layer_size_2,)), dtype=torch.float32))\n",
    "        self.rnn1_c0 = torch.nn.Parameter(torch.tensor(np.random.normal(0.0, 1.0, (hidden_layer_size_2,)), dtype=torch.float32))\n",
    "        self.rnn2_s0 = torch.nn.Parameter(torch.tensor(np.random.normal(0.0, 1.0, (hidden_layer_size_2,)), dtype=torch.float32))\n",
    "        self.rnn2_c0 = torch.nn.Parameter(torch.tensor(np.random.normal(0.0, 1.0, (hidden_layer_size_2,)), dtype=torch.float32))\n",
    "        self.rnn = torch.nn.LSTM(hidden_layer_size_1, hidden_layer_size_2, batch_first=True, num_layers=2)\n",
    "        self.w2 = torch.nn.Parameter(torch.tensor(np.random.normal(0.0, 1.0, (hidden_layer_size_2, 1)), dtype=torch.float32))\n",
    "        self.b2 = torch.nn.Parameter(torch.zeros((1,), dtype=torch.float32))\n",
    "\n",
    "    def forward(self, x, text_lens):\n",
    "        x_t = x.transpose(1, 2)\n",
    "        hidden_1_t = torch.nn.functional.leaky_relu(torch.nn.functional.conv1d(x_t, self.w1, self.b1))\n",
    "        hidden_1 = hidden_1_t.transpose(1, 2)\n",
    "\n",
    "        batch_size = hidden_1.shape[0]\n",
    "        \n",
    "        s0 = torch.stack((\n",
    "            self.rnn1_s0,\n",
    "            self.rnn2_s0,\n",
    "        ), dim=0)\n",
    "        s0 = s0.unsqueeze(1).tile((1, batch_size, 1))\n",
    "\n",
    "        c0 = torch.stack((\n",
    "            self.rnn1_c0,\n",
    "            self.rnn2_c0,\n",
    "        ), dim=0)\n",
    "        c0 = c0.unsqueeze(1).tile((1, batch_size, 1))\n",
    "\n",
    "        (interm_states, (_, _)) = self.rnn(hidden_1, (s0, c0))\n",
    "        hidden_2 = interm_states[torch.arange(batch_size), text_lens - self.window_size_1, :]\n",
    "\n",
    "        return hidden_2@self.w2 + self.b2"
   ]
  },
  {
   "cell_type": "code",
   "execution_count": 12,
   "metadata": {},
   "outputs": [
    {
     "name": "stdout",
     "output_type": "stream",
     "text": [
      "step error\n"
     ]
    },
    {
     "name": "stderr",
     "output_type": "stream",
     "text": [
      "/tmp/ipykernel_2593113/324524730.py:101: VisibleDeprecationWarning: Creating an ndarray from ragged nested sequences (which is a list-or-tuple of lists-or-tuples-or ndarrays with different lengths or shapes) is deprecated. If you meant to do this, you must specify 'dtype=object' when creating the ndarray.\n",
      "  context_w=np.array(self.language_sdk[hid]['context_embedding_indexes'])\n",
      "/tmp/ipykernel_2593113/324524730.py:102: VisibleDeprecationWarning: Creating an ndarray from ragged nested sequences (which is a list-or-tuple of lists-or-tuples-or ndarrays with different lengths or shapes) is deprecated. If you meant to do this, you must specify 'dtype=object' when creating the ndarray.\n",
      "  context_of=np.array(self.word_aligned_openface_sdk[hid]['context_features'])\n",
      "/tmp/ipykernel_2593113/324524730.py:103: VisibleDeprecationWarning: Creating an ndarray from ragged nested sequences (which is a list-or-tuple of lists-or-tuples-or ndarrays with different lengths or shapes) is deprecated. If you meant to do this, you must specify 'dtype=object' when creating the ndarray.\n",
      "  context_cvp=np.array(self.word_aligned_covarep_sdk[hid]['context_features'])\n"
     ]
    },
    {
     "name": "stdout",
     "output_type": "stream",
     "text": [
      "1 0.8885009288787842\n",
      "dev accuracy: 55.31%\n",
      "2 0.6308746337890625\n",
      "dev accuracy: 56.04%\n",
      "3 0.6306856870651245\n",
      "dev accuracy: 59.75%\n",
      "4 0.5595582723617554\n",
      "dev accuracy: 58.93%\n",
      "5 0.5290197730064392\n",
      "dev accuracy: 59.24%\n",
      "6 0.4768161475658417\n",
      "dev accuracy: 59.24%\n",
      "7 0.4195394814014435\n",
      "dev accuracy: 60.37%\n",
      "8 0.3932267725467682\n",
      "dev accuracy: 59.24%\n",
      "9 0.32347843050956726\n",
      "dev accuracy: 58.72%\n",
      "10 0.22237960994243622\n",
      "dev accuracy: 59.03%\n",
      "11 0.21190112829208374\n",
      "dev accuracy: 58.82%\n",
      "12 0.16462069749832153\n",
      "dev accuracy: 57.28%\n",
      "13 0.0707748755812645\n",
      "dev accuracy: 57.38%\n",
      "14 0.06567663699388504\n",
      "dev accuracy: 58.10%\n",
      "15 0.08821272850036621\n",
      "dev accuracy: 57.07%\n",
      "16 0.04141668975353241\n",
      "dev accuracy: 58.51%\n",
      "17 0.05914543941617012\n",
      "dev accuracy: 56.66%\n",
      "18 0.025087319314479828\n",
      "dev accuracy: 57.79%\n",
      "19 0.014385119080543518\n",
      "dev accuracy: 57.59%\n",
      "20 0.013959744945168495\n",
      "dev accuracy: 57.07%\n"
     ]
    },
    {
     "data": {
      "image/png": "[encoded data removed]",
      "text/plain": [
       "<Figure size 432x288 with 1 Axes>"
      ]
     },
     "metadata": {
      "needs_background": "light"
     },
     "output_type": "display_data"
    },
    {
     "data": {
      "image/png": "[encoded data removed]",
      "text/plain": [
       "<Figure size 432x288 with 1 Axes>"
      ]
     },
     "metadata": {
      "needs_background": "light"
     },
     "output_type": "display_data"
    }
   ],
   "source": [
    "device = torch.device(gpu_id if torch.cuda.is_available() else 'cpu')\n",
    "cnn_rnn = CNN_RNN(hidden_layer_size_1=512, window_size_1=2, hidden_layer_size_2=512)\n",
    "cnn_rnn.to(device)\n",
    "\n",
    "optimiser = torch.optim.Adam(cnn_rnn.parameters(), lr=0.0001)\n",
    "epochs = 20\n",
    "\n",
    "print('step', 'error')\n",
    "dev_accs = []\n",
    "errors = []\n",
    "for epoch in range(1, epochs+1):\n",
    "    for batch_idx, batch in enumerate(train_dataloader, 0):\n",
    "        x_p,x_c,y,hid,x_p_len=map(lambda x: x.to(device), batch)\n",
    "        optimiser.zero_grad()\n",
    "        output = cnn_rnn(x_p[:, :, :300], x_p_len)\n",
    "        error = torch.nn.functional.binary_cross_entropy_with_logits(output, y)\n",
    "        error.backward()\n",
    "        optimiser.step()\n",
    "    \n",
    "    print(epoch, error.detach().tolist())\n",
    "    errors.append(error.detach().tolist())\n",
    "\n",
    "    with torch.no_grad():\n",
    "        matches = 0\n",
    "        total = 0\n",
    "        for batch_idx, batch in enumerate(dev_dataloader, 0): \n",
    "            x_p,x_c,y,hid, x_p_len=map(lambda x: x.to(device), batch)\n",
    "            outputs = torch.sigmoid(cnn_rnn(x_p[:, :, :300], x_p_len))\n",
    "            predictions = (outputs > 0.5)*1\n",
    "            matches += (y == predictions).sum()\n",
    "            total += len(y)\n",
    "        acc = matches / total\n",
    "        dev_accs.append(float(acc))\n",
    "        print('dev accuracy: {:.2%}'.format(float(acc)))\n",
    "\n",
    "plt.plot(range(1, epochs+1), dev_accs, 'b')\n",
    "plt.title('dev set accuracy')\n",
    "plt.xlabel('epochs')\n",
    "plt.ylabel('accuracy')\n",
    "plt.show()\n",
    "\n",
    "plt.plot(range(1, epochs+1), errors, 'r')\n",
    "plt.title('train error')\n",
    "plt.xlabel('epochs')\n",
    "plt.ylabel('error')\n",
    "plt.show()"
   ]
  },
  {
   "cell_type": "code",
   "execution_count": 13,
   "metadata": {},
   "outputs": [
    {
     "name": "stderr",
     "output_type": "stream",
     "text": [
      "/tmp/ipykernel_2593113/324524730.py:101: VisibleDeprecationWarning: Creating an ndarray from ragged nested sequences (which is a list-or-tuple of lists-or-tuples-or ndarrays with different lengths or shapes) is deprecated. If you meant to do this, you must specify 'dtype=object' when creating the ndarray.\n",
      "  context_w=np.array(self.language_sdk[hid]['context_embedding_indexes'])\n",
      "/tmp/ipykernel_2593113/324524730.py:102: VisibleDeprecationWarning: Creating an ndarray from ragged nested sequences (which is a list-or-tuple of lists-or-tuples-or ndarrays with different lengths or shapes) is deprecated. If you meant to do this, you must specify 'dtype=object' when creating the ndarray.\n",
      "  context_of=np.array(self.word_aligned_openface_sdk[hid]['context_features'])\n",
      "/tmp/ipykernel_2593113/324524730.py:103: VisibleDeprecationWarning: Creating an ndarray from ragged nested sequences (which is a list-or-tuple of lists-or-tuples-or ndarrays with different lengths or shapes) is deprecated. If you meant to do this, you must specify 'dtype=object' when creating the ndarray.\n",
      "  context_cvp=np.array(self.word_aligned_covarep_sdk[hid]['context_features'])\n"
     ]
    },
    {
     "name": "stdout",
     "output_type": "stream",
     "text": [
      "test accuracy: 58.57%\n"
     ]
    }
   ],
   "source": [
    "with torch.no_grad():\n",
    "    matches = 0\n",
    "    total = 0\n",
    "    for batch_idx, batch in enumerate(test_dataloader, 0): \n",
    "        x_p,x_c,y,hid, x_p_len=map(lambda x: x.to(device), batch)\n",
    "        outputs = torch.sigmoid(cnn_rnn(x_p[:, :, :300], x_p_len))\n",
    "        predictions = (outputs > 0.5)*1\n",
    "        matches += (y == predictions).sum()\n",
    "        total += len(y)\n",
    "    acc = matches / total\n",
    "    print('test accuracy: {:.2%}'.format(float(acc)))"
   ]
  }
 ],
 "metadata": {
  "interpreter": {
   "hash": "36cf16204b8548560b1c020c4e8fb5b57f0e4c58016f52f2d4be01e192833930"
  },
  "kernelspec": {
   "display_name": "Python 3.9.9 64-bit",
   "language": "python",
   "name": "python3"
  },
  "language_info": {
   "codemirror_mode": {
    "name": "ipython",
    "version": 3
   },
   "file_extension": ".py",
   "mimetype": "text/x-python",
   "name": "python",
   "nbconvert_exporter": "python",
   "pygments_lexer": "ipython3",
   "version": "3.9.10"
  },
  "orig_nbformat": 4
 },
 "nbformat": 4,
 "nbformat_minor": 2
}
