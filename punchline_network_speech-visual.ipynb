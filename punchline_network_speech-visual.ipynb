{
 "cells": [
  {
   "cell_type": "code",
   "execution_count": 1,
   "metadata": {},
   "outputs": [],
   "source": [
    "#imports\n",
    "import torch\n",
    "import numpy as np\n",
    "import matplotlib.pyplot as plt"
   ]
  },
  {
   "cell_type": "code",
   "execution_count": 2,
   "metadata": {},
   "outputs": [],
   "source": [
    "%run dataloader.ipynb"
   ]
  },
  {
   "cell_type": "code",
   "execution_count": 3,
   "metadata": {},
   "outputs": [],
   "source": [
    "batch_size=2600\n",
    "train_dataloader = DataLoader(train_set, collate_fn=collate_fn, batch_size=batch_size, shuffle=True)\n",
    "dev_dataloader = DataLoader(dev_set, collate_fn=collate_fn, batch_size=1000, shuffle=True)\n",
    "test_dataloader = DataLoader(test_set, collate_fn=collate_fn, batch_size=1000, shuffle=True)"
   ]
  },
  {
   "cell_type": "code",
   "execution_count": 4,
   "metadata": {},
   "outputs": [],
   "source": [
    "gpu_id = 'cuda:7'\n",
    "device = torch.device(gpu_id if torch.cuda.is_available() else 'cpu')"
   ]
  },
  {
   "cell_type": "code",
   "execution_count": 5,
   "metadata": {},
   "outputs": [],
   "source": [
    "# rnn\n",
    "class RNN(torch.nn.Module):\n",
    "\n",
    "    def __init__(self, input_dim_speech, input_dim_visual, hidden_layer_size) -> None:\n",
    "        super().__init__()\n",
    "\n",
    "        self.speech_rnn = torch.nn.LSTM(input_dim_speech, hidden_layer_size, batch_first=True, num_layers=2, dropout=0.2)\n",
    "        self.visual_rnn = torch.nn.LSTM(input_dim_visual, hidden_layer_size, batch_first=True, num_layers=2, dropout=0.2)\n",
    "        self.dropout = torch.nn.Dropout(0.2)\n",
    "        self.linear = torch.nn.Linear(hidden_layer_size, 1)\n",
    "\n",
    "    def forward(self, x_speech, x_visual, text_lens):\n",
    "        batch_size = x_speech.shape[0]\n",
    "\n",
    "        interm_states_speech, _ = self.speech_rnn(x_speech)\n",
    "        interm_states_visual, _ = self.visual_rnn(x_visual)\n",
    "\n",
    "        final_state_speech = interm_states_speech[torch.arange(batch_size), text_lens - 1, :]\n",
    "        final_state_visual = interm_states_visual[torch.arange(batch_size), text_lens - 1, :]\n",
    "\n",
    "        stacked = torch.stack(( \n",
    "            final_state_speech,\n",
    "            final_state_visual\n",
    "            ), dim=1)\n",
    "        pooled = torch.max(stacked, dim=1)[0]\n",
    "        h = self.dropout(pooled)\n",
    "        return self.linear(h)"
   ]
  },
  {
   "cell_type": "code",
   "execution_count": 6,
   "metadata": {},
   "outputs": [
    {
     "name": "stdout",
     "output_type": "stream",
     "text": [
      "step error\n"
     ]
    },
    {
     "name": "stderr",
     "output_type": "stream",
     "text": [
      "/tmp/ipykernel_3371341/4016921915.py:102: VisibleDeprecationWarning: Creating an ndarray from ragged nested sequences (which is a list-or-tuple of lists-or-tuples-or ndarrays with different lengths or shapes) is deprecated. If you meant to do this, you must specify 'dtype=object' when creating the ndarray.\n",
      "  context_w=np.array(self.language_sdk[hid]['context_embedding_indexes'])\n",
      "/tmp/ipykernel_3371341/4016921915.py:103: VisibleDeprecationWarning: Creating an ndarray from ragged nested sequences (which is a list-or-tuple of lists-or-tuples-or ndarrays with different lengths or shapes) is deprecated. If you meant to do this, you must specify 'dtype=object' when creating the ndarray.\n",
      "  context_of=np.array(self.word_aligned_openface_sdk[hid]['context_features'])\n",
      "/tmp/ipykernel_3371341/4016921915.py:104: VisibleDeprecationWarning: Creating an ndarray from ragged nested sequences (which is a list-or-tuple of lists-or-tuples-or ndarrays with different lengths or shapes) is deprecated. If you meant to do this, you must specify 'dtype=object' when creating the ndarray.\n",
      "  context_cvp=np.array(self.word_aligned_covarep_sdk[hid]['context_features'])\n"
     ]
    },
    {
     "name": "stdout",
     "output_type": "stream",
     "text": [
      "1 0.6914410591125488\n",
      "dev error:  0.6927116513252258\n",
      "2 0.6890565752983093\n",
      "dev error:  0.6919856667518616\n",
      "3 0.6873369812965393\n",
      "dev error:  0.6915640830993652\n",
      "4 0.6850153803825378\n",
      "dev error:  0.6914364099502563\n",
      "5 0.6859064102172852\n",
      "dev error:  0.6910865306854248\n",
      "6 0.6797693967819214\n",
      "dev error:  0.690570056438446\n",
      "7 0.6745198965072632\n",
      "dev error:  0.6909758448600769\n",
      "8 0.6787141561508179\n",
      "dev error:  0.6917362809181213\n",
      "9 0.6742421388626099\n",
      "dev error:  0.6919545531272888\n",
      "10 0.672218918800354\n",
      "dev error:  0.6941254734992981\n",
      "11 0.6778287291526794\n",
      "dev error:  0.6947963237762451\n",
      "12 0.6745829582214355\n",
      "dev error:  0.697641909122467\n",
      "13 0.6688103079795837\n",
      "dev error:  0.6938995718955994\n",
      "14 0.6696134805679321\n",
      "dev error:  0.6952379941940308\n",
      "15 0.6686820387840271\n",
      "dev error:  0.6932528018951416\n",
      "16 0.6758540272712708\n",
      "dev error:  0.6944863200187683\n"
     ]
    },
    {
     "data": {
      "image/png": "[encoded data removed]",
      "text/plain": [
       "<Figure size 432x288 with 1 Axes>"
      ]
     },
     "metadata": {
      "needs_background": "light"
     },
     "output_type": "display_data"
    },
    {
     "name": "stdout",
     "output_type": "stream",
     "text": [
      "best model after 6 epochs with dev set error 0.690570056438446\n"
     ]
    }
   ],
   "source": [
    "# input features\n",
    "###\n",
    "idxs_speech = torch.arange(300, 381) # speech, 81\n",
    "idxs_visual = torch.arange(381, 752) # visual, 371\n",
    "\n",
    "device = torch.device(gpu_id if torch.cuda.is_available() else 'cpu')\n",
    "model = RNN(input_dim_speech=81, input_dim_visual=371, hidden_layer_size=256)\n",
    "model.to(device)\n",
    "\n",
    "optimiser = torch.optim.Adam(model.parameters(), lr=0.001, weight_decay=0.002)\n",
    "epochs = 100\n",
    "patience = 10\n",
    "\n",
    "print('step', 'error')\n",
    "dev_errors = []\n",
    "best_dev_error = np.inf\n",
    "errors = []\n",
    "num_bad_epochs = 0\n",
    "num_epochs = 0\n",
    "best_epoch = 0\n",
    "for epoch in range(1, epochs+1):\n",
    "    model.train()\n",
    "    for batch_idx, batch in enumerate(train_dataloader, 0):\n",
    "        x_p,x_c,y,hid,x_p_len=map(lambda x: x.to(device), batch)\n",
    "        optimiser.zero_grad()\n",
    "        output = model(x_p[:, :, idxs_speech], x_p[:, :, idxs_visual], x_p_len)\n",
    "        error = torch.nn.functional.binary_cross_entropy_with_logits(output, y)\n",
    "        error.backward()\n",
    "        optimiser.step()\n",
    "    \n",
    "    print(epoch, error.detach().tolist())\n",
    "    errors.append(error.detach().tolist())\n",
    "\n",
    "    with torch.no_grad():\n",
    "        model.eval()\n",
    "        matches = 0\n",
    "        total = 0\n",
    "        for batch_idx, batch in enumerate(dev_dataloader, 0):\n",
    "            x_p,x_c,y,hid,x_p_len=map(lambda x: x.to(device), batch)\n",
    "            dev_output = model(x_p[:, :, idxs_speech], x_p[:, :, idxs_visual], x_p_len)\n",
    "            dev_error = torch.nn.functional.binary_cross_entropy_with_logits(dev_output, y)\n",
    "        dev_errors.append(float(dev_error))\n",
    "        print('dev error: ', float(dev_error))\n",
    "\n",
    "    if dev_error < best_dev_error:\n",
    "        num_bad_epochs = 0\n",
    "        best_dev_error = dev_error\n",
    "        best_epoch = epoch\n",
    "        torch.save(model, 'punchline_net_speech-visual.pth')\n",
    "    else:\n",
    "        num_bad_epochs += 1\n",
    "        if num_bad_epochs == patience:\n",
    "            num_epochs = epoch\n",
    "            break\n",
    "\n",
    "plt.plot(range(1, num_epochs+1), dev_errors, 'r', label='dev error')\n",
    "plt.plot(range(1, num_epochs+1), errors, 'b', label='train error')\n",
    "plt.title('train and dev error')\n",
    "plt.xlabel('epochs')\n",
    "plt.ylabel('error')\n",
    "plt.legend()\n",
    "plt.show()\n",
    "\n",
    "print('best model after {} epochs with dev set error {}'.format(best_epoch, best_dev_error))\n",
    "model = torch.load('punchline_net_speech-visual.pth')"
   ]
  },
  {
   "cell_type": "code",
   "execution_count": 9,
   "metadata": {},
   "outputs": [
    {
     "name": "stderr",
     "output_type": "stream",
     "text": [
      "/tmp/ipykernel_3371341/4016921915.py:102: VisibleDeprecationWarning: Creating an ndarray from ragged nested sequences (which is a list-or-tuple of lists-or-tuples-or ndarrays with different lengths or shapes) is deprecated. If you meant to do this, you must specify 'dtype=object' when creating the ndarray.\n",
      "  context_w=np.array(self.language_sdk[hid]['context_embedding_indexes'])\n",
      "/tmp/ipykernel_3371341/4016921915.py:103: VisibleDeprecationWarning: Creating an ndarray from ragged nested sequences (which is a list-or-tuple of lists-or-tuples-or ndarrays with different lengths or shapes) is deprecated. If you meant to do this, you must specify 'dtype=object' when creating the ndarray.\n",
      "  context_of=np.array(self.word_aligned_openface_sdk[hid]['context_features'])\n",
      "/tmp/ipykernel_3371341/4016921915.py:104: VisibleDeprecationWarning: Creating an ndarray from ragged nested sequences (which is a list-or-tuple of lists-or-tuples-or ndarrays with different lengths or shapes) is deprecated. If you meant to do this, you must specify 'dtype=object' when creating the ndarray.\n",
      "  context_cvp=np.array(self.word_aligned_covarep_sdk[hid]['context_features'])\n"
     ]
    },
    {
     "name": "stdout",
     "output_type": "stream",
     "text": [
      "test error:  0.6797508001327515\n",
      "test accuracy: 58.06%\n"
     ]
    }
   ],
   "source": [
    "hid_humor_t = {}\n",
    "hid_humor_f = {}\n",
    "hid_nonhumor_t = {}\n",
    "hid_nonhumor_f = {}\n",
    "\n",
    "with torch.no_grad():\n",
    "    matches = 0\n",
    "    total = 0\n",
    "    for batch_idx, batch in enumerate(test_dataloader, 0): \n",
    "        x_p,x_c,y,hid, x_p_len=map(lambda x: x.to(device), batch)\n",
    "        output = model(x_p[:, :, idxs_speech], x_p[:, :, idxs_visual], x_p_len)\n",
    "        error = torch.nn.functional.binary_cross_entropy_with_logits(output, y)\n",
    "        scaled_outputs = torch.sigmoid(output)\n",
    "        predictions = (scaled_outputs > 0.5)*1\n",
    "        matches += (y == predictions).sum()\n",
    "        total += len(y)\n",
    "        for j, id in enumerate(hid.detach().tolist()):\n",
    "            if predictions[j] == 1 and y[j] == 1:\n",
    "                hid_humor_t[id] = scaled_outputs[j].detach().tolist()[0]\n",
    "            elif predictions[j] == 1 and y[j] == 0:\n",
    "                hid_humor_f[id] = scaled_outputs[j].detach().tolist()[0]\n",
    "            elif predictions[j] == 0 and y[j] == 0:\n",
    "                hid_nonhumor_t[id] = scaled_outputs[j].detach().tolist()[0]\n",
    "            elif predictions[j] == 0 and y[j] == 1:\n",
    "                hid_nonhumor_f[id] = scaled_outputs[j].detach().tolist()[0]\n",
    "            else:\n",
    "                print('something is wrong')\n",
    "    acc = matches / total\n",
    "    print('test error: ', float(error))\n",
    "    print('test accuracy: {:.2%}'.format(float(acc)))"
   ]
  },
  {
   "cell_type": "code",
   "execution_count": 10,
   "metadata": {},
   "outputs": [
    {
     "name": "stdout",
     "output_type": "stream",
     "text": [
      "244\n",
      "325\n",
      "165\n",
      "246\n",
      "the good news is i married her the next year\n",
      "i'm going to guide you into the car\n",
      "but it turns out that the key social identifier is how much you're going to talk in the car\n",
      "i haven't come to the best part\n",
      "they probably should have marketed this as some of the guardians of the galaxy\n",
      "\n",
      "i would have told you myself that i was the last person on earth who would stay with a man who beats me but in fact i was a very typical victim because of my age\n",
      "it's a load of nonsense\n",
      "another called twister and so on and so on\n",
      "we set up a whole er\n",
      "it's part of the answer\n",
      "\n",
      "participants who felt rich took two times as much candy as participants who felt poor\n",
      "it just so happens that stewart's brand of funny doesn't work unless the facts are true\n",
      "has started a dark net site\n",
      "now comedy travels along a distinct wavelength from other forms of language\n",
      "the second law is a law of humility if you like\n",
      "\n",
      "i was going to use you but i decided i might want to come back another year\n",
      "and she had just put solar panels on her roof and she didn't understand the request\n",
      "so basically china is a sick bric country\n",
      "and the vast majority of teachers reports believing that the ideal student is an extrovert as opposed to an introvert even though actually get better grades and are more knowledgeable according to research\n",
      "don't go in there\n"
     ]
    }
   ],
   "source": [
    "print(len(hid_humor_t))\n",
    "print(len(hid_nonhumor_t))\n",
    "print(len(hid_humor_f))\n",
    "print(len(hid_nonhumor_f))\n",
    "\n",
    "language_sdk=load_pickle(\"language_sdk.pkl\")\n",
    "\n",
    "sorted_humor_t = {k: v for k, v in sorted(hid_humor_t.items(), key=lambda item: item[1], reverse=True)}\n",
    "sorted_nonhumor_t = {k: v for k, v in sorted(hid_nonhumor_t.items(), key=lambda item: item[1], reverse=True)}\n",
    "sorted_humor_f = {k: v for k, v in sorted(hid_humor_f.items(), key=lambda item: item[1], reverse=True)}\n",
    "sorted_nonhumor_f = {k: v for k, v in sorted(hid_nonhumor_f.items(), key=lambda item: item[1], reverse=True)}\n",
    "\n",
    "for hid, output in list(sorted_humor_t.items())[:5]:\n",
    "    print(language_sdk[hid]['punchline_sentence'])\n",
    "print()\n",
    "for hid, output in list(sorted_humor_f.items())[:5]:\n",
    "    print(language_sdk[hid]['punchline_sentence'])\n",
    "print()\n",
    "for hid, output in list(sorted_nonhumor_t.items())[:5]:\n",
    "    print(language_sdk[hid]['punchline_sentence'])\n",
    "print()\n",
    "for hid, output in list(sorted_nonhumor_f.items())[:5]:\n",
    "    print(language_sdk[hid]['punchline_sentence'])"
   ]
  }
 ],
 "metadata": {
  "interpreter": {
   "hash": "36cf16204b8548560b1c020c4e8fb5b57f0e4c58016f52f2d4be01e192833930"
  },
  "kernelspec": {
   "display_name": "Python 3.9.9 64-bit",
   "language": "python",
   "name": "python3"
  },
  "language_info": {
   "codemirror_mode": {
    "name": "ipython",
    "version": 3
   },
   "file_extension": ".py",
   "mimetype": "text/x-python",
   "name": "python",
   "nbconvert_exporter": "python",
   "pygments_lexer": "ipython3",
   "version": "3.9.10"
  },
  "orig_nbformat": 4
 },
 "nbformat": 4,
 "nbformat_minor": 2
}
