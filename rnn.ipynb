{
 "cells": [
  {
   "cell_type": "code",
   "execution_count": 20,
   "metadata": {},
   "outputs": [],
   "source": [
    "#imports\n",
    "import torch\n",
    "import numpy as np\n",
    "import matplotlib.pyplot as plt\n",
    "import random\n",
    "import math"
   ]
  },
  {
   "cell_type": "code",
   "execution_count": 21,
   "metadata": {},
   "outputs": [
    {
     "name": "stdout",
     "output_type": "stream",
     "text": [
      "train size:  7614\n",
      "dev size:  980\n",
      "test size:  994\n"
     ]
    }
   ],
   "source": [
    "%run dataloader.ipynb"
   ]
  },
  {
   "cell_type": "code",
   "execution_count": 22,
   "metadata": {},
   "outputs": [],
   "source": [
    "batch_size=1000\n",
    "train_dataloader = DataLoader(train_set, collate_fn=collate_fn, batch_size=batch_size, shuffle=True)\n",
    "dev_dataloader = DataLoader(dev_set, collate_fn=collate_fn, batch_size=batch_size, shuffle=True)\n",
    "test_dataloader = DataLoader(test_set, collate_fn=collate_fn, batch_size=batch_size, shuffle=True)"
   ]
  },
  {
   "cell_type": "code",
   "execution_count": 23,
   "metadata": {},
   "outputs": [],
   "source": [
    "gpu_id = 'cuda:2'\n",
    "device = torch.device(gpu_id if torch.cuda.is_available() else 'cpu')"
   ]
  },
  {
   "cell_type": "code",
   "execution_count": 24,
   "metadata": {},
   "outputs": [
    {
     "name": "stderr",
     "output_type": "stream",
     "text": [
      "/tmp/ipykernel_295143/249400721.py:101: VisibleDeprecationWarning: Creating an ndarray from ragged nested sequences (which is a list-or-tuple of lists-or-tuples-or ndarrays with different lengths or shapes) is deprecated. If you meant to do this, you must specify 'dtype=object' when creating the ndarray.\n",
      "  context_w=np.array(self.language_sdk[hid]['context_embedding_indexes'])\n",
      "/tmp/ipykernel_295143/249400721.py:102: VisibleDeprecationWarning: Creating an ndarray from ragged nested sequences (which is a list-or-tuple of lists-or-tuples-or ndarrays with different lengths or shapes) is deprecated. If you meant to do this, you must specify 'dtype=object' when creating the ndarray.\n",
      "  context_of=np.array(self.word_aligned_openface_sdk[hid]['context_features'])\n",
      "/tmp/ipykernel_295143/249400721.py:103: VisibleDeprecationWarning: Creating an ndarray from ragged nested sequences (which is a list-or-tuple of lists-or-tuples-or ndarrays with different lengths or shapes) is deprecated. If you meant to do this, you must specify 'dtype=object' when creating the ndarray.\n",
      "  context_cvp=np.array(self.word_aligned_covarep_sdk[hid]['context_features'])\n"
     ]
    },
    {
     "name": "stdout",
     "output_type": "stream",
     "text": [
      "490\n",
      "504\n"
     ]
    }
   ],
   "source": [
    "humor = 0\n",
    "no_humor = 0\n",
    "for batch_idx, batch in enumerate(test_dataloader, 0):\n",
    "    x_p,x_c,y,hid,x_p_len=map(lambda x: x.to(device), batch)\n",
    "    for label in y:\n",
    "        if label == 0:\n",
    "            no_humor += 1\n",
    "        if label == 1:\n",
    "            humor += 1\n",
    "\n",
    "print(humor)\n",
    "print(no_humor)"
   ]
  },
  {
   "cell_type": "code",
   "execution_count": 28,
   "metadata": {},
   "outputs": [],
   "source": [
    "# rnn\n",
    "class RNN(torch.nn.Module):\n",
    "\n",
    "    def __init__(self, input_dim, hidden_layer_size_1, hidden_layer_size_2) -> None:\n",
    "        super().__init__()\n",
    "        self.rnn1_s0 = torch.nn.Parameter(torch.tensor(np.random.normal(0.0, 1.0, (hidden_layer_size_1,)), dtype=torch.float32))\n",
    "        self.rnn1_c0 = torch.nn.Parameter(torch.tensor(np.random.normal(0.0, 1.0, (hidden_layer_size_1,)), dtype=torch.float32))\n",
    "        self.rnn2_s0 = torch.nn.Parameter(torch.tensor(np.random.normal(0.0, 1.0, (hidden_layer_size_1,)), dtype=torch.float32))\n",
    "        self.rnn2_c0 = torch.nn.Parameter(torch.tensor(np.random.normal(0.0, 1.0, (hidden_layer_size_1,)), dtype=torch.float32))\n",
    "        self.rnn = torch.nn.LSTM(input_dim, hidden_layer_size_1, batch_first=True, num_layers=2)\n",
    "        self.w1 = torch.nn.Parameter(torch.tensor(np.random.normal(0.0, 1.0, (hidden_layer_size_1, hidden_layer_size_2)), dtype=torch.float32))\n",
    "        self.b1 = torch.nn.Parameter(torch.zeros((hidden_layer_size_2,), dtype=torch.float32))\n",
    "        self.w2 = torch.nn.Parameter(torch.tensor(np.random.normal(0.0, 1.0, (hidden_layer_size_2, 1)), dtype=torch.float32))\n",
    "        self.b2 = torch.nn.Parameter(torch.zeros((1,), dtype=torch.float32))\n",
    "\n",
    "    def forward(self, x, text_lens):\n",
    "        batch_size = x.shape[0]\n",
    "        \n",
    "        s0 = torch.stack((\n",
    "            self.rnn1_s0,\n",
    "            self.rnn2_s0,\n",
    "        ), dim=0)\n",
    "        s0 = s0.unsqueeze(1).tile((1, batch_size, 1))\n",
    "\n",
    "        c0 = torch.stack((\n",
    "            self.rnn1_c0,\n",
    "            self.rnn2_c0,\n",
    "        ), dim=0)\n",
    "        c0 = c0.unsqueeze(1).tile((1, batch_size, 1))\n",
    "\n",
    "        (interm_states, (_, _)) = self.rnn(x, (s0, c0))\n",
    "        final_state = interm_states[torch.arange(batch_size), text_lens - 1, :]\n",
    "        hidden = torch.nn.functional.leaky_relu(final_state@self.w1 + self.b1)\n",
    "        return hidden@self.w2 + self.b2"
   ]
  },
  {
   "cell_type": "code",
   "execution_count": 29,
   "metadata": {},
   "outputs": [
    {
     "name": "stdout",
     "output_type": "stream",
     "text": [
      "step error\n"
     ]
    },
    {
     "name": "stderr",
     "output_type": "stream",
     "text": [
      "/tmp/ipykernel_295143/249400721.py:101: VisibleDeprecationWarning: Creating an ndarray from ragged nested sequences (which is a list-or-tuple of lists-or-tuples-or ndarrays with different lengths or shapes) is deprecated. If you meant to do this, you must specify 'dtype=object' when creating the ndarray.\n",
      "  context_w=np.array(self.language_sdk[hid]['context_embedding_indexes'])\n",
      "/tmp/ipykernel_295143/249400721.py:102: VisibleDeprecationWarning: Creating an ndarray from ragged nested sequences (which is a list-or-tuple of lists-or-tuples-or ndarrays with different lengths or shapes) is deprecated. If you meant to do this, you must specify 'dtype=object' when creating the ndarray.\n",
      "  context_of=np.array(self.word_aligned_openface_sdk[hid]['context_features'])\n",
      "/tmp/ipykernel_295143/249400721.py:103: VisibleDeprecationWarning: Creating an ndarray from ragged nested sequences (which is a list-or-tuple of lists-or-tuples-or ndarrays with different lengths or shapes) is deprecated. If you meant to do this, you must specify 'dtype=object' when creating the ndarray.\n",
      "  context_cvp=np.array(self.word_aligned_covarep_sdk[hid]['context_features'])\n"
     ]
    },
    {
     "name": "stdout",
     "output_type": "stream",
     "text": [
      "1 0.7700443267822266\n",
      "dev accuracy: 50.82%\n",
      "2 0.7733480334281921\n",
      "dev accuracy: 55.61%\n",
      "3 0.695427656173706\n",
      "dev accuracy: 58.88%\n",
      "4 0.666189968585968\n",
      "dev accuracy: 58.88%\n",
      "5 0.6408803462982178\n",
      "dev accuracy: 59.39%\n",
      "6 0.648438036441803\n",
      "dev accuracy: 60.41%\n",
      "7 0.6438732743263245\n",
      "dev accuracy: 59.08%\n",
      "8 0.5967159271240234\n",
      "dev accuracy: 59.08%\n",
      "9 0.6195107102394104\n",
      "dev accuracy: 59.49%\n",
      "10 0.6373391151428223\n",
      "dev accuracy: 58.98%\n",
      "11 0.6240363121032715\n",
      "dev accuracy: 61.22%\n",
      "12 0.6239208579063416\n",
      "dev accuracy: 60.10%\n",
      "13 0.573895275592804\n",
      "dev accuracy: 59.80%\n",
      "14 0.60170978307724\n",
      "dev accuracy: 61.12%\n",
      "15 0.604557454586029\n",
      "dev accuracy: 60.10%\n",
      "16 0.5882627964019775\n",
      "dev accuracy: 59.29%\n",
      "17 0.5671521425247192\n",
      "dev accuracy: 59.69%\n",
      "18 0.5853798389434814\n",
      "dev accuracy: 57.35%\n",
      "19 0.5841230154037476\n",
      "dev accuracy: 58.98%\n",
      "20 0.5835404992103577\n",
      "dev accuracy: 59.59%\n"
     ]
    },
    {
     "data": {
      "image/png": "[encoded data removed]",
      "text/plain": [
       "<Figure size 432x288 with 1 Axes>"
      ]
     },
     "metadata": {
      "needs_background": "light"
     },
     "output_type": "display_data"
    },
    {
     "data": {
      "image/png": "[encoded data removed]",
      "text/plain": [
       "<Figure size 432x288 with 1 Axes>"
      ]
     },
     "metadata": {
      "needs_background": "light"
     },
     "output_type": "display_data"
    }
   ],
   "source": [
    "# input features\n",
    "###\n",
    "idxs = torch.arange(300) # text, 300\n",
    "#idxs = torch.arange(300, 381) # speech, 81\n",
    "#idxs = torch.arange(381, 752) # visual, 371\n",
    "#idxs = torch.arange(381) # text + speech, 381\n",
    "#idxs = torch.cat((torch.arange(300), torch.arange(381, 752))) # text + visual, 671\n",
    "#idxs = torch.arange(300, 752) # speech + visual, 452\n",
    "\n",
    "device = torch.device(gpu_id if torch.cuda.is_available() else 'cpu')\n",
    "rnn = RNN(input_dim=300, hidden_layer_size_1=512, hidden_layer_size_2=64)\n",
    "rnn.to(device)\n",
    "\n",
    "optimiser = torch.optim.Adam(rnn.parameters(), lr=0.0001)\n",
    "epochs = 20\n",
    "\n",
    "print('step', 'error')\n",
    "dev_accs = []\n",
    "errors = []\n",
    "for epoch in range(1, epochs+1):\n",
    "    for batch_idx, batch in enumerate(train_dataloader, 0):\n",
    "        x_p,x_c,y,hid,x_p_len=map(lambda x: x.to(device), batch)\n",
    "        optimiser.zero_grad()\n",
    "        output = rnn(x_p[:, :, :300], x_p_len)\n",
    "        error = torch.nn.functional.binary_cross_entropy_with_logits(output, y)\n",
    "        error.backward()\n",
    "        optimiser.step()\n",
    "    \n",
    "    print(epoch, error.detach().tolist())\n",
    "    errors.append(error.detach().tolist())\n",
    "\n",
    "    with torch.no_grad():\n",
    "        matches = 0\n",
    "        total = 0\n",
    "        for batch_idx, batch in enumerate(dev_dataloader, 0): \n",
    "            x_p,x_c,y,hid,x_p_len=map(lambda x: x.to(device), batch)\n",
    "            outputs = torch.sigmoid(rnn(x_p[:, :, :300], x_p_len))\n",
    "            predictions = (outputs > 0.5)*1\n",
    "            matches += (y == predictions).sum()\n",
    "            total += len(y)\n",
    "        acc = matches / total\n",
    "        dev_accs.append(float(acc))\n",
    "        print('dev accuracy: {:.2%}'.format(float(acc)))\n",
    "\n",
    "plt.plot(range(1, epochs+1), dev_accs, 'b')\n",
    "plt.title('dev set accuracy')\n",
    "plt.xlabel('epochs')\n",
    "plt.ylabel('accuracy')\n",
    "plt.show()\n",
    "\n",
    "plt.plot(range(1, epochs+1), errors, 'r')\n",
    "plt.title('train error')\n",
    "plt.xlabel('epochs')\n",
    "plt.ylabel('error')\n",
    "plt.show()"
   ]
  },
  {
   "cell_type": "code",
   "execution_count": 31,
   "metadata": {},
   "outputs": [
    {
     "name": "stderr",
     "output_type": "stream",
     "text": [
      "/tmp/ipykernel_295143/249400721.py:101: VisibleDeprecationWarning: Creating an ndarray from ragged nested sequences (which is a list-or-tuple of lists-or-tuples-or ndarrays with different lengths or shapes) is deprecated. If you meant to do this, you must specify 'dtype=object' when creating the ndarray.\n",
      "  context_w=np.array(self.language_sdk[hid]['context_embedding_indexes'])\n",
      "/tmp/ipykernel_295143/249400721.py:102: VisibleDeprecationWarning: Creating an ndarray from ragged nested sequences (which is a list-or-tuple of lists-or-tuples-or ndarrays with different lengths or shapes) is deprecated. If you meant to do this, you must specify 'dtype=object' when creating the ndarray.\n",
      "  context_of=np.array(self.word_aligned_openface_sdk[hid]['context_features'])\n",
      "/tmp/ipykernel_295143/249400721.py:103: VisibleDeprecationWarning: Creating an ndarray from ragged nested sequences (which is a list-or-tuple of lists-or-tuples-or ndarrays with different lengths or shapes) is deprecated. If you meant to do this, you must specify 'dtype=object' when creating the ndarray.\n",
      "  context_cvp=np.array(self.word_aligned_covarep_sdk[hid]['context_features'])\n"
     ]
    },
    {
     "name": "stdout",
     "output_type": "stream",
     "text": [
      "test accuracy: 61.37%\n"
     ]
    }
   ],
   "source": [
    "with torch.no_grad():\n",
    "    matches = 0\n",
    "    total = 0\n",
    "    for batch_idx, batch in enumerate(test_dataloader, 0): \n",
    "        x_p,x_c,y,hid, x_p_len=map(lambda x: x.to(device), batch)\n",
    "        outputs = torch.sigmoid(rnn(x_p[:, :, idxs], x_p_len))\n",
    "        predictions = (outputs > 0.5)*1\n",
    "        matches += (y == predictions).sum()\n",
    "        total += len(y)\n",
    "    acc = matches / total\n",
    "    print('test accuracy: {:.2%}'.format(float(acc)))"
   ]
  }
 ],
 "metadata": {
  "interpreter": {
   "hash": "36cf16204b8548560b1c020c4e8fb5b57f0e4c58016f52f2d4be01e192833930"
  },
  "kernelspec": {
   "display_name": "Python 3.9.9 64-bit",
   "language": "python",
   "name": "python3"
  },
  "language_info": {
   "codemirror_mode": {
    "name": "ipython",
    "version": 3
   },
   "file_extension": ".py",
   "mimetype": "text/x-python",
   "name": "python",
   "nbconvert_exporter": "python",
   "pygments_lexer": "ipython3",
   "version": "3.9.10"
  },
  "orig_nbformat": 4
 },
 "nbformat": 4,
 "nbformat_minor": 2
}
