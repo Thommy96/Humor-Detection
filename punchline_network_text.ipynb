{
 "cells": [
  {
   "cell_type": "code",
   "execution_count": 3,
   "metadata": {},
   "outputs": [],
   "source": [
    "#imports\n",
    "import torch\n",
    "import numpy as np\n",
    "import matplotlib.pyplot as plt\n",
    "import random\n",
    "import math"
   ]
  },
  {
   "cell_type": "code",
   "execution_count": 4,
   "metadata": {},
   "outputs": [],
   "source": [
    "%run dataloader.ipynb"
   ]
  },
  {
   "cell_type": "code",
   "execution_count": 5,
   "metadata": {},
   "outputs": [],
   "source": [
    "batch_size=2600\n",
    "train_dataloader = DataLoader(train_set, collate_fn=collate_fn, batch_size=batch_size, shuffle=True)\n",
    "dev_dataloader = DataLoader(dev_set, collate_fn=collate_fn, batch_size=1000, shuffle=True)\n",
    "test_dataloader = DataLoader(test_set, collate_fn=collate_fn, batch_size=1000, shuffle=True)"
   ]
  },
  {
   "cell_type": "code",
   "execution_count": 6,
   "metadata": {},
   "outputs": [],
   "source": [
    "gpu_id = 'cuda:2'\n",
    "device = torch.device(gpu_id if torch.cuda.is_available() else 'cpu')"
   ]
  },
  {
   "cell_type": "code",
   "execution_count": 7,
   "metadata": {},
   "outputs": [],
   "source": [
    "# rnn\n",
    "class RNN(torch.nn.Module):\n",
    "\n",
    "    def __init__(self, input_dim_text, hidden_layer_size) -> None:\n",
    "        super().__init__()\n",
    "\n",
    "        self.text_rnn = torch.nn.LSTM(input_dim_text, hidden_layer_size, batch_first=True, num_layers=2, dropout=0.2)\n",
    "        self.dropout = torch.nn.Dropout(0.2)\n",
    "        self.linear = torch.nn.Linear(hidden_layer_size, 1)\n",
    "\n",
    "    def forward(self, x_text, text_lens):\n",
    "        batch_size = x_text.shape[0]\n",
    "\n",
    "        interm_states_text, _ = self.text_rnn(x_text)\n",
    "        final_state_text = interm_states_text[torch.arange(batch_size), text_lens - 1, :]\n",
    "\n",
    "        h = self.dropout(final_state_text)\n",
    "        return self.linear(h)"
   ]
  },
  {
   "cell_type": "code",
   "execution_count": 8,
   "metadata": {},
   "outputs": [
    {
     "name": "stdout",
     "output_type": "stream",
     "text": [
      "step error\n"
     ]
    },
    {
     "name": "stderr",
     "output_type": "stream",
     "text": [
      "/tmp/ipykernel_3366178/4016921915.py:102: VisibleDeprecationWarning: Creating an ndarray from ragged nested sequences (which is a list-or-tuple of lists-or-tuples-or ndarrays with different lengths or shapes) is deprecated. If you meant to do this, you must specify 'dtype=object' when creating the ndarray.\n",
      "  context_w=np.array(self.language_sdk[hid]['context_embedding_indexes'])\n",
      "/tmp/ipykernel_3366178/4016921915.py:103: VisibleDeprecationWarning: Creating an ndarray from ragged nested sequences (which is a list-or-tuple of lists-or-tuples-or ndarrays with different lengths or shapes) is deprecated. If you meant to do this, you must specify 'dtype=object' when creating the ndarray.\n",
      "  context_of=np.array(self.word_aligned_openface_sdk[hid]['context_features'])\n",
      "/tmp/ipykernel_3366178/4016921915.py:104: VisibleDeprecationWarning: Creating an ndarray from ragged nested sequences (which is a list-or-tuple of lists-or-tuples-or ndarrays with different lengths or shapes) is deprecated. If you meant to do this, you must specify 'dtype=object' when creating the ndarray.\n",
      "  context_cvp=np.array(self.word_aligned_covarep_sdk[hid]['context_features'])\n"
     ]
    },
    {
     "name": "stdout",
     "output_type": "stream",
     "text": [
      "1 0.692065417766571\n",
      "dev error:  0.6919435262680054\n",
      "2 0.6905661821365356\n",
      "dev error:  0.6907120943069458\n",
      "3 0.6880674958229065\n",
      "dev error:  0.6891809701919556\n",
      "4 0.6856358647346497\n",
      "dev error:  0.686822772026062\n",
      "5 0.679785966873169\n",
      "dev error:  0.682891845703125\n",
      "6 0.6718578338623047\n",
      "dev error:  0.6774467825889587\n",
      "7 0.6575726270675659\n",
      "dev error:  0.6776332855224609\n",
      "8 0.6541206240653992\n",
      "dev error:  0.6844279766082764\n",
      "9 0.6379340291023254\n",
      "dev error:  0.6718072295188904\n",
      "10 0.6418887972831726\n",
      "dev error:  0.6677404046058655\n",
      "11 0.6463479399681091\n",
      "dev error:  0.6648816466331482\n",
      "12 0.6285539269447327\n",
      "dev error:  0.6678211092948914\n",
      "13 0.6202729344367981\n",
      "dev error:  0.6611857414245605\n",
      "14 0.636061429977417\n",
      "dev error:  0.6592851877212524\n",
      "15 0.6288414597511292\n",
      "dev error:  0.6582461595535278\n",
      "16 0.6340794563293457\n",
      "dev error:  0.6600237488746643\n",
      "17 0.6277818083763123\n",
      "dev error:  0.6678066253662109\n",
      "18 0.629325807094574\n",
      "dev error:  0.6586998105049133\n",
      "19 0.6331994533538818\n",
      "dev error:  0.6582891345024109\n",
      "20 0.6372026801109314\n",
      "dev error:  0.6602723598480225\n",
      "21 0.6324462294578552\n",
      "dev error:  0.659428060054779\n",
      "22 0.6202101111412048\n",
      "dev error:  0.6575704216957092\n",
      "23 0.6199815273284912\n",
      "dev error:  0.6590984463691711\n",
      "24 0.6230060458183289\n",
      "dev error:  0.6612343788146973\n",
      "25 0.625438928604126\n",
      "dev error:  0.6624709367752075\n",
      "26 0.6222751140594482\n",
      "dev error:  0.6565871834754944\n",
      "27 0.6198216676712036\n",
      "dev error:  0.6581913232803345\n",
      "28 0.6257994771003723\n",
      "dev error:  0.6612468361854553\n",
      "29 0.6206278800964355\n",
      "dev error:  0.6581246852874756\n",
      "30 0.6042177081108093\n",
      "dev error:  0.6585724353790283\n",
      "31 0.606999933719635\n",
      "dev error:  0.6635576486587524\n",
      "32 0.6067107915878296\n",
      "dev error:  0.665248692035675\n",
      "33 0.6092482805252075\n",
      "dev error:  0.6615431904792786\n",
      "34 0.6026633381843567\n",
      "dev error:  0.6700063943862915\n",
      "35 0.6169491410255432\n",
      "dev error:  0.6616576313972473\n",
      "36 0.6221359968185425\n",
      "dev error:  0.6617852449417114\n"
     ]
    },
    {
     "data": {
      "image/png": "[encoded data removed]",
      "text/plain": [
       "<Figure size 432x288 with 1 Axes>"
      ]
     },
     "metadata": {
      "needs_background": "light"
     },
     "output_type": "display_data"
    },
    {
     "name": "stdout",
     "output_type": "stream",
     "text": [
      "best model after 26 epochs with dev set error 0.6565871834754944\n"
     ]
    }
   ],
   "source": [
    "# input features\n",
    "###\n",
    "idxs_text = torch.arange(300) # text, 300\n",
    "\n",
    "device = torch.device(gpu_id if torch.cuda.is_available() else 'cpu')\n",
    "model = RNN(input_dim_text=300, hidden_layer_size=256)\n",
    "model.to(device)\n",
    "\n",
    "optimiser = torch.optim.Adam(model.parameters(), lr=0.001, weight_decay=0.002)\n",
    "epochs = 500\n",
    "patience = 10\n",
    "\n",
    "print('step', 'error')\n",
    "dev_errors = []\n",
    "best_dev_error = np.inf\n",
    "errors = []\n",
    "num_bad_epochs = 0\n",
    "num_epochs = 0\n",
    "best_epoch = 0\n",
    "for epoch in range(1, epochs+1):\n",
    "    model.train()\n",
    "    for batch_idx, batch in enumerate(train_dataloader, 0):\n",
    "        x_p,x_c,y,hid,x_p_len=map(lambda x: x.to(device), batch)\n",
    "        optimiser.zero_grad()\n",
    "        output = model(x_p[:, :, idxs_text], x_p_len)\n",
    "        error = torch.nn.functional.binary_cross_entropy_with_logits(output, y)\n",
    "        error.backward()\n",
    "        optimiser.step()\n",
    "    \n",
    "    print(epoch, error.detach().tolist())\n",
    "    errors.append(error.detach().tolist())\n",
    "\n",
    "    with torch.no_grad():\n",
    "        model.eval()\n",
    "        matches = 0\n",
    "        total = 0\n",
    "        for batch_idx, batch in enumerate(dev_dataloader, 0):\n",
    "            x_p,x_c,y,hid,x_p_len=map(lambda x: x.to(device), batch)\n",
    "            dev_output = model(x_p[:, :, idxs_text], x_p_len)\n",
    "            dev_error = torch.nn.functional.binary_cross_entropy_with_logits(dev_output, y)\n",
    "        dev_errors.append(float(dev_error))\n",
    "        print('dev error: ', float(dev_error))\n",
    "\n",
    "    if dev_error < best_dev_error:\n",
    "        num_bad_epochs = 0\n",
    "        best_dev_error = dev_error\n",
    "        best_epoch = epoch\n",
    "        torch.save(model, 'punchline_net_text.pth')\n",
    "    else:\n",
    "        num_bad_epochs += 1\n",
    "        if num_bad_epochs == patience:\n",
    "            num_epochs = epoch\n",
    "            break\n",
    "\n",
    "plt.plot(range(1, num_epochs+1), dev_errors, 'r', label='dev error')\n",
    "plt.plot(range(1, num_epochs+1), errors, 'b', label='train error')\n",
    "plt.title('train and dev error')\n",
    "plt.xlabel('epochs')\n",
    "plt.ylabel('error')\n",
    "plt.legend()\n",
    "plt.show()\n",
    "\n",
    "print('best model after {} epochs with dev set error {}'.format(best_epoch, best_dev_error))\n",
    "model = torch.load('punchline_net_text.pth')"
   ]
  },
  {
   "cell_type": "code",
   "execution_count": 12,
   "metadata": {},
   "outputs": [
    {
     "name": "stderr",
     "output_type": "stream",
     "text": [
      "/tmp/ipykernel_3366178/4016921915.py:102: VisibleDeprecationWarning: Creating an ndarray from ragged nested sequences (which is a list-or-tuple of lists-or-tuples-or ndarrays with different lengths or shapes) is deprecated. If you meant to do this, you must specify 'dtype=object' when creating the ndarray.\n",
      "  context_w=np.array(self.language_sdk[hid]['context_embedding_indexes'])\n",
      "/tmp/ipykernel_3366178/4016921915.py:103: VisibleDeprecationWarning: Creating an ndarray from ragged nested sequences (which is a list-or-tuple of lists-or-tuples-or ndarrays with different lengths or shapes) is deprecated. If you meant to do this, you must specify 'dtype=object' when creating the ndarray.\n",
      "  context_of=np.array(self.word_aligned_openface_sdk[hid]['context_features'])\n",
      "/tmp/ipykernel_3366178/4016921915.py:104: VisibleDeprecationWarning: Creating an ndarray from ragged nested sequences (which is a list-or-tuple of lists-or-tuples-or ndarrays with different lengths or shapes) is deprecated. If you meant to do this, you must specify 'dtype=object' when creating the ndarray.\n",
      "  context_cvp=np.array(self.word_aligned_covarep_sdk[hid]['context_features'])\n"
     ]
    },
    {
     "name": "stdout",
     "output_type": "stream",
     "text": [
      "test error:  0.6393314003944397\n",
      "test accuracy: 65.41%\n"
     ]
    }
   ],
   "source": [
    "hid_humor_t = {}\n",
    "hid_humor_f = {}\n",
    "hid_nonhumor_t = {}\n",
    "hid_nonhumor_f = {}\n",
    "\n",
    "with torch.no_grad():\n",
    "    matches = 0\n",
    "    total = 0\n",
    "    for batch_idx, batch in enumerate(test_dataloader, 0): \n",
    "        x_p,x_c,y,hid, x_p_len=map(lambda x: x.to(device), batch)\n",
    "        output = model(x_p[:, :, idxs_text], x_p_len)\n",
    "        error = torch.nn.functional.binary_cross_entropy_with_logits(output, y)\n",
    "        scaled_outputs = torch.sigmoid(output)\n",
    "        predictions = (scaled_outputs > 0.5)*1\n",
    "        matches += (y == predictions).sum()\n",
    "        total += len(y)\n",
    "        for j, id in enumerate(hid.detach().tolist()):\n",
    "            if predictions[j] == 1 and y[j] == 1:\n",
    "                hid_humor_t[id] = scaled_outputs[j].detach().tolist()[0]\n",
    "            elif predictions[j] == 1 and y[j] == 0:\n",
    "                hid_humor_f[id] = scaled_outputs[j].detach().tolist()[0]\n",
    "            elif predictions[j] == 0 and y[j] == 0:\n",
    "                hid_nonhumor_t[id] = scaled_outputs[j].detach().tolist()[0]\n",
    "            elif predictions[j] == 0 and y[j] == 1:\n",
    "                hid_nonhumor_f[id] = scaled_outputs[j].detach().tolist()[0]\n",
    "            else:\n",
    "                print('something is wrong')\n",
    "    acc = matches / total\n",
    "    print('test error: ', float(error))\n",
    "    print('test accuracy: {:.2%}'.format(float(acc)))"
   ]
  },
  {
   "cell_type": "code",
   "execution_count": 13,
   "metadata": {},
   "outputs": [
    {
     "name": "stdout",
     "output_type": "stream",
     "text": [
      "353\n",
      "288\n",
      "202\n",
      "137\n",
      "so had the graduate heard the right one word maybe he would have ended up onstage oh i don't know maybe with these two\n",
      "and as the saying goes when angry you will make the best speech you will ever regret\n",
      "no slouching no pants hanging down none of that stuff\n",
      "this mouthing behavior on the right was really her way of saying to him hey look how big i am or you know my what big teeth you have\n",
      "if you want to remember one thing it's that you can't fetch the coffee if you're dead\n",
      "\n",
      "oh let me kind of tell you a funny little play bit\n",
      "it's also good news if you want to browse for illegal pornography and if you want to buy and sell drugs with impunity\n",
      "but on the other side of that predatory gaze is a female husky in a play bow wagging her tail\n",
      "so when you're watching a movie and a phone rings it's not actually ringing\n",
      "ok but don't say my name like that\n",
      "\n",
      "many of you have probably heard about so i'll just say briefly that is a tool that allows researchers to edit genes very precisely easily and quickly\n",
      "and you in essence have a funeral that you get to be present for\n",
      "let me just give you an example from a recent study that we conducted\n",
      "and seeing this reinforces for me that every one of us has at least one or two great photographs in them\n",
      "they're not even autonomous\n",
      "\n",
      "but it turns out that the key social identifier is how much you're going to talk in the car\n",
      "and all we've got is a\n",
      "this is your life enjoy it\n",
      "so he had to resign\n",
      "last year we did a dance in zero gravity and once we set up an obstacle course out of thousands of musical instruments in the desert and then played them by stunt driving a car through them\n"
     ]
    }
   ],
   "source": [
    "print(len(hid_humor_t))\n",
    "print(len(hid_nonhumor_t))\n",
    "print(len(hid_humor_f))\n",
    "print(len(hid_nonhumor_f))\n",
    "\n",
    "language_sdk=load_pickle(\"language_sdk.pkl\")\n",
    "\n",
    "sorted_humor_t = {k: v for k, v in sorted(hid_humor_t.items(), key=lambda item: item[1], reverse=True)}\n",
    "sorted_nonhumor_t = {k: v for k, v in sorted(hid_nonhumor_t.items(), key=lambda item: item[1], reverse=True)}\n",
    "sorted_humor_f = {k: v for k, v in sorted(hid_humor_f.items(), key=lambda item: item[1], reverse=True)}\n",
    "sorted_nonhumor_f = {k: v for k, v in sorted(hid_nonhumor_f.items(), key=lambda item: item[1], reverse=True)}\n",
    "\n",
    "for hid, output in list(sorted_humor_t.items())[:5]:\n",
    "    print(language_sdk[hid]['punchline_sentence'])\n",
    "print()\n",
    "for hid, output in list(sorted_humor_f.items())[:5]:\n",
    "    print(language_sdk[hid]['punchline_sentence'])\n",
    "print()\n",
    "for hid, output in list(sorted_nonhumor_t.items())[:5]:\n",
    "    print(language_sdk[hid]['punchline_sentence'])\n",
    "print()\n",
    "for hid, output in list(sorted_nonhumor_f.items())[:5]:\n",
    "    print(language_sdk[hid]['punchline_sentence'])"
   ]
  }
 ],
 "metadata": {
  "interpreter": {
   "hash": "36cf16204b8548560b1c020c4e8fb5b57f0e4c58016f52f2d4be01e192833930"
  },
  "kernelspec": {
   "display_name": "Python 3.9.9 64-bit",
   "language": "python",
   "name": "python3"
  },
  "language_info": {
   "codemirror_mode": {
    "name": "ipython",
    "version": 3
   },
   "file_extension": ".py",
   "mimetype": "text/x-python",
   "name": "python",
   "nbconvert_exporter": "python",
   "pygments_lexer": "ipython3",
   "version": "3.9.10"
  },
  "orig_nbformat": 4
 },
 "nbformat": 4,
 "nbformat_minor": 2
}
