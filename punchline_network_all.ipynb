{
 "cells": [
  {
   "cell_type": "code",
   "execution_count": 1,
   "metadata": {},
   "outputs": [],
   "source": [
    "#imports\n",
    "import torch\n",
    "import numpy as np\n",
    "import matplotlib.pyplot as plt"
   ]
  },
  {
   "cell_type": "code",
   "execution_count": 2,
   "metadata": {},
   "outputs": [],
   "source": [
    "%run dataloader.ipynb"
   ]
  },
  {
   "cell_type": "code",
   "execution_count": 3,
   "metadata": {},
   "outputs": [],
   "source": [
    "batch_size=2600\n",
    "train_dataloader = DataLoader(train_set, collate_fn=collate_fn, batch_size=batch_size, shuffle=True)\n",
    "dev_dataloader = DataLoader(dev_set, collate_fn=collate_fn, batch_size=1000, shuffle=True)\n",
    "test_dataloader = DataLoader(test_set, collate_fn=collate_fn, batch_size=1000, shuffle=True)"
   ]
  },
  {
   "cell_type": "code",
   "execution_count": 4,
   "metadata": {},
   "outputs": [],
   "source": [
    "gpu_id = 'cuda:5'\n",
    "device = torch.device(gpu_id if torch.cuda.is_available() else 'cpu')"
   ]
  },
  {
   "cell_type": "code",
   "execution_count": 5,
   "metadata": {},
   "outputs": [],
   "source": [
    "# rnn\n",
    "class RNN(torch.nn.Module):\n",
    "\n",
    "    def __init__(self, input_dim_text, input_dim_speech, input_dim_visual, hidden_layer_size) -> None:\n",
    "        super().__init__()\n",
    "\n",
    "        self.text_rnn = torch.nn.LSTM(input_dim_text, hidden_layer_size, batch_first=True, num_layers=2, dropout=0.2)\n",
    "        self.speech_rnn = torch.nn.LSTM(input_dim_speech, hidden_layer_size, batch_first=True, num_layers=2, dropout=0.2)\n",
    "        self.visual_rnn = torch.nn.LSTM(input_dim_visual, hidden_layer_size, batch_first=True, num_layers=2, dropout=0.2)\n",
    "        self.dropout = torch.nn.Dropout(0.2)\n",
    "        self.linear = torch.nn.Linear(hidden_layer_size, 1)\n",
    "\n",
    "    def forward(self, x_text, x_speech, x_visual, text_lens):\n",
    "        batch_size = x_text.shape[0]\n",
    "\n",
    "        interm_states_text, _ = self.text_rnn(x_text)\n",
    "        interm_states_speech, _ = self.speech_rnn(x_speech)\n",
    "        interm_states_visual, _ = self.visual_rnn(x_visual)\n",
    "\n",
    "        final_state_text = interm_states_text[torch.arange(batch_size), text_lens - 1, :]\n",
    "        final_state_speech = interm_states_speech[torch.arange(batch_size), text_lens - 1, :]\n",
    "        final_state_visual = interm_states_visual[torch.arange(batch_size), text_lens - 1, :]\n",
    "\n",
    "        stacked = torch.stack((\n",
    "            final_state_text, \n",
    "            final_state_speech,\n",
    "            final_state_visual\n",
    "            ), dim=1)\n",
    "        pooled = torch.max(stacked, dim=1)[0]\n",
    "        h = self.dropout(pooled)\n",
    "        return self.linear(h)"
   ]
  },
  {
   "cell_type": "code",
   "execution_count": 6,
   "metadata": {},
   "outputs": [
    {
     "name": "stdout",
     "output_type": "stream",
     "text": [
      "step error\n"
     ]
    },
    {
     "name": "stderr",
     "output_type": "stream",
     "text": [
      "/tmp/ipykernel_3372217/4016921915.py:102: VisibleDeprecationWarning: Creating an ndarray from ragged nested sequences (which is a list-or-tuple of lists-or-tuples-or ndarrays with different lengths or shapes) is deprecated. If you meant to do this, you must specify 'dtype=object' when creating the ndarray.\n",
      "  context_w=np.array(self.language_sdk[hid]['context_embedding_indexes'])\n",
      "/tmp/ipykernel_3372217/4016921915.py:103: VisibleDeprecationWarning: Creating an ndarray from ragged nested sequences (which is a list-or-tuple of lists-or-tuples-or ndarrays with different lengths or shapes) is deprecated. If you meant to do this, you must specify 'dtype=object' when creating the ndarray.\n",
      "  context_of=np.array(self.word_aligned_openface_sdk[hid]['context_features'])\n",
      "/tmp/ipykernel_3372217/4016921915.py:104: VisibleDeprecationWarning: Creating an ndarray from ragged nested sequences (which is a list-or-tuple of lists-or-tuples-or ndarrays with different lengths or shapes) is deprecated. If you meant to do this, you must specify 'dtype=object' when creating the ndarray.\n",
      "  context_cvp=np.array(self.word_aligned_covarep_sdk[hid]['context_features'])\n"
     ]
    },
    {
     "name": "stdout",
     "output_type": "stream",
     "text": [
      "1 0.6913546919822693\n",
      "dev error:  0.6923770904541016\n",
      "2 0.6897344589233398\n",
      "dev error:  0.691652238368988\n",
      "3 0.6875655055046082\n",
      "dev error:  0.6906182169914246\n",
      "4 0.6858721375465393\n",
      "dev error:  0.6895639896392822\n",
      "5 0.6828481554985046\n",
      "dev error:  0.6883695125579834\n",
      "6 0.6822584867477417\n",
      "dev error:  0.687321126461029\n",
      "7 0.6773380637168884\n",
      "dev error:  0.6852231621742249\n",
      "8 0.6725885272026062\n",
      "dev error:  0.6827043890953064\n",
      "9 0.6693484783172607\n",
      "dev error:  0.6806206703186035\n",
      "10 0.6617922782897949\n",
      "dev error:  0.6756903529167175\n",
      "11 0.6503181457519531\n",
      "dev error:  0.6738857626914978\n",
      "12 0.6323065161705017\n",
      "dev error:  0.6754294037818909\n",
      "13 0.6348106861114502\n",
      "dev error:  0.6684474945068359\n",
      "14 0.6351767778396606\n",
      "dev error:  0.6637443900108337\n",
      "15 0.6248255372047424\n",
      "dev error:  0.6623566150665283\n",
      "16 0.6286011934280396\n",
      "dev error:  0.6576001644134521\n",
      "17 0.6336697340011597\n",
      "dev error:  0.6562966108322144\n",
      "18 0.6255604028701782\n",
      "dev error:  0.6553303003311157\n",
      "19 0.6232975125312805\n",
      "dev error:  0.6598345637321472\n",
      "20 0.6206117272377014\n",
      "dev error:  0.6572449207305908\n",
      "21 0.6158450245857239\n",
      "dev error:  0.6569714546203613\n",
      "22 0.6120114922523499\n",
      "dev error:  0.6585671305656433\n",
      "23 0.6114823222160339\n",
      "dev error:  0.665198028087616\n",
      "24 0.6204861402511597\n",
      "dev error:  0.6561527848243713\n",
      "25 0.6139405369758606\n",
      "dev error:  0.6539292335510254\n",
      "26 0.6100963354110718\n",
      "dev error:  0.6563843488693237\n",
      "27 0.6135810613632202\n",
      "dev error:  0.6554762125015259\n",
      "28 0.6079156994819641\n",
      "dev error:  0.660793125629425\n",
      "29 0.6066151857376099\n",
      "dev error:  0.655457079410553\n",
      "30 0.6111897826194763\n",
      "dev error:  0.6544656157493591\n",
      "31 0.607253909111023\n",
      "dev error:  0.6588029861450195\n",
      "32 0.6031357645988464\n",
      "dev error:  0.6618138551712036\n",
      "33 0.6204121112823486\n",
      "dev error:  0.6635633111000061\n",
      "34 0.6155925989151001\n",
      "dev error:  0.6533867716789246\n",
      "35 0.602212131023407\n",
      "dev error:  0.6586965322494507\n",
      "36 0.6170506477355957\n",
      "dev error:  0.6602773666381836\n",
      "37 0.6036354303359985\n",
      "dev error:  0.6656538248062134\n",
      "38 0.5949603319168091\n",
      "dev error:  0.6572751998901367\n",
      "39 0.6127366423606873\n",
      "dev error:  0.6597387790679932\n",
      "40 0.6067354679107666\n",
      "dev error:  0.6633738875389099\n",
      "41 0.6126060485839844\n",
      "dev error:  0.6566713452339172\n",
      "42 0.598907470703125\n",
      "dev error:  0.664951503276825\n",
      "43 0.6063635349273682\n",
      "dev error:  0.6589288115501404\n",
      "44 0.595139741897583\n",
      "dev error:  0.6599379777908325\n"
     ]
    },
    {
     "data": {
      "image/png": "[encoded data removed]",
      "text/plain": [
       "<Figure size 432x288 with 1 Axes>"
      ]
     },
     "metadata": {
      "needs_background": "light"
     },
     "output_type": "display_data"
    },
    {
     "name": "stdout",
     "output_type": "stream",
     "text": [
      "best model after 34 epochs with dev set error 0.6533867716789246\n"
     ]
    }
   ],
   "source": [
    "# input features\n",
    "###\n",
    "idxs_text = torch.arange(300) # text, 300\n",
    "idxs_speech = torch.arange(300, 381) # speech, 81\n",
    "idxs_visual = torch.arange(381, 752) # visual, 371\n",
    "\n",
    "device = torch.device(gpu_id if torch.cuda.is_available() else 'cpu')\n",
    "model = RNN(input_dim_text=300, input_dim_speech=81, input_dim_visual=371, hidden_layer_size=256)\n",
    "model.to(device)\n",
    "\n",
    "optimiser = torch.optim.Adam(model.parameters(), lr=0.001, weight_decay=0.002)\n",
    "epochs = 100\n",
    "patience = 10\n",
    "\n",
    "print('step', 'error')\n",
    "dev_errors = []\n",
    "best_dev_error = np.inf\n",
    "errors = []\n",
    "num_bad_epochs = 0\n",
    "num_epochs = 0\n",
    "best_epoch = 0\n",
    "for epoch in range(1, epochs+1):\n",
    "    model.train()\n",
    "    for batch_idx, batch in enumerate(train_dataloader, 0):\n",
    "        x_p,x_c,y,hid,x_p_len=map(lambda x: x.to(device), batch)\n",
    "        optimiser.zero_grad()\n",
    "        output = model(x_p[:, :, idxs_text], x_p[:, :, idxs_speech], x_p[:, :, idxs_visual], x_p_len)\n",
    "        error = torch.nn.functional.binary_cross_entropy_with_logits(output, y)\n",
    "        error.backward()\n",
    "        optimiser.step()\n",
    "    \n",
    "    print(epoch, error.detach().tolist())\n",
    "    errors.append(error.detach().tolist())\n",
    "\n",
    "    with torch.no_grad():\n",
    "        model.eval()\n",
    "        matches = 0\n",
    "        total = 0\n",
    "        for batch_idx, batch in enumerate(dev_dataloader, 0):\n",
    "            x_p,x_c,y,hid,x_p_len=map(lambda x: x.to(device), batch)\n",
    "            dev_output = model(x_p[:, :, idxs_text], x_p[:, :, idxs_speech], x_p[:, :, idxs_visual], x_p_len)\n",
    "            dev_error = torch.nn.functional.binary_cross_entropy_with_logits(dev_output, y)\n",
    "        dev_errors.append(float(dev_error))\n",
    "        print('dev error: ', float(dev_error))\n",
    "\n",
    "    if dev_error < best_dev_error:\n",
    "        num_bad_epochs = 0\n",
    "        best_dev_error = dev_error\n",
    "        best_epoch = epoch\n",
    "        torch.save(model, 'punchline_net_all.pth')\n",
    "    else:\n",
    "        num_bad_epochs += 1\n",
    "        if num_bad_epochs == patience:\n",
    "            num_epochs = epoch\n",
    "            break\n",
    "\n",
    "plt.plot(range(1, num_epochs+1), dev_errors, 'r', label='dev error')\n",
    "plt.plot(range(1, num_epochs+1), errors, 'b', label='train error')\n",
    "plt.title('train and dev error')\n",
    "plt.xlabel('epochs')\n",
    "plt.ylabel('error')\n",
    "plt.legend()\n",
    "plt.show()\n",
    "\n",
    "print('best model after {} epochs with dev set error {}'.format(best_epoch, best_dev_error))\n",
    "model = torch.load('punchline_net_all.pth')"
   ]
  },
  {
   "cell_type": "code",
   "execution_count": 7,
   "metadata": {},
   "outputs": [
    {
     "name": "stderr",
     "output_type": "stream",
     "text": [
      "/tmp/ipykernel_3372217/4016921915.py:102: VisibleDeprecationWarning: Creating an ndarray from ragged nested sequences (which is a list-or-tuple of lists-or-tuples-or ndarrays with different lengths or shapes) is deprecated. If you meant to do this, you must specify 'dtype=object' when creating the ndarray.\n",
      "  context_w=np.array(self.language_sdk[hid]['context_embedding_indexes'])\n",
      "/tmp/ipykernel_3372217/4016921915.py:103: VisibleDeprecationWarning: Creating an ndarray from ragged nested sequences (which is a list-or-tuple of lists-or-tuples-or ndarrays with different lengths or shapes) is deprecated. If you meant to do this, you must specify 'dtype=object' when creating the ndarray.\n",
      "  context_of=np.array(self.word_aligned_openface_sdk[hid]['context_features'])\n",
      "/tmp/ipykernel_3372217/4016921915.py:104: VisibleDeprecationWarning: Creating an ndarray from ragged nested sequences (which is a list-or-tuple of lists-or-tuples-or ndarrays with different lengths or shapes) is deprecated. If you meant to do this, you must specify 'dtype=object' when creating the ndarray.\n",
      "  context_cvp=np.array(self.word_aligned_covarep_sdk[hid]['context_features'])\n"
     ]
    },
    {
     "name": "stdout",
     "output_type": "stream",
     "text": [
      "test error:  0.6274634003639221\n",
      "test accuracy: 65.20%\n"
     ]
    }
   ],
   "source": [
    "hid_humor_t = {}\n",
    "hid_humor_f = {}\n",
    "hid_nonhumor_t = {}\n",
    "hid_nonhumor_f = {}\n",
    "\n",
    "with torch.no_grad():\n",
    "    matches = 0\n",
    "    total = 0\n",
    "    for batch_idx, batch in enumerate(test_dataloader, 0): \n",
    "        x_p,x_c,y,hid, x_p_len=map(lambda x: x.to(device), batch)\n",
    "        output = model(x_p[:, :, idxs_text], x_p[:, :, idxs_speech], x_p[:, :, idxs_visual], x_p_len)\n",
    "        error = torch.nn.functional.binary_cross_entropy_with_logits(output, y)\n",
    "        scaled_outputs = torch.sigmoid(output)\n",
    "        predictions = (scaled_outputs > 0.5)*1\n",
    "        matches += (y == predictions).sum()\n",
    "        total += len(y)\n",
    "        for j, id in enumerate(hid.detach().tolist()):\n",
    "            if predictions[j] == 1 and y[j] == 1:\n",
    "                hid_humor_t[id] = scaled_outputs[j].detach().tolist()[0]\n",
    "            elif predictions[j] == 1 and y[j] == 0:\n",
    "                hid_humor_f[id] = scaled_outputs[j].detach().tolist()[0]\n",
    "            elif predictions[j] == 0 and y[j] == 0:\n",
    "                hid_nonhumor_t[id] = scaled_outputs[j].detach().tolist()[0]\n",
    "            elif predictions[j] == 0 and y[j] == 1:\n",
    "                hid_nonhumor_f[id] = scaled_outputs[j].detach().tolist()[0]\n",
    "            else:\n",
    "                print('something is wrong')\n",
    "    acc = matches / total\n",
    "    print('test error: ', float(error))\n",
    "    print('test accuracy: {:.2%}'.format(float(acc)))"
   ]
  },
  {
   "cell_type": "code",
   "execution_count": 8,
   "metadata": {},
   "outputs": [
    {
     "name": "stdout",
     "output_type": "stream",
     "text": [
      "346\n",
      "293\n",
      "197\n",
      "144\n",
      "so had the graduate heard the right one word maybe he would have ended up onstage oh i don't know maybe with these two\n",
      "this is why spouses in happy marriages tend to think that their husband or wife looks much better than anyone else thinks that they do\n",
      "and as the saying goes when angry you will make the best speech you will ever regret\n",
      "we had one government agency and one company aircraft operator say you're crazy don't do that you're going kill the guy\n",
      "as a multi purpose passenger vehicle it is now officially designed for occasional off road use\n",
      "\n",
      "oh let me kind of tell you a funny little play bit\n",
      "i would have told you myself that i was the last person on earth who would stay with a man who beats me but in fact i was a very typical victim because of my age\n",
      "but if you think the is something like a wasteland i think it's wrong\n",
      "it's also good news if you want to browse for illegal pornography and if you want to buy and sell drugs with impunity\n",
      "ok but don't say my name like that\n",
      "\n",
      "i am because of you\n",
      "i know firsthand\n",
      "the stories that we tell what we push out becomes who we are\n",
      "this is the final product\n",
      "and this piece those aren't actually leaves\n",
      "\n",
      "she said everything is fine but once i spent a whole night asking and trying to translate the meaning of the word for him\n",
      "this will take a while\n",
      "and unlike the juicy it does not threaten to attach itself to your brain rather it simply attaches itself to your brain\n",
      "i'm just going to make the whole thing myself\n",
      "some of my best friends are architects\n"
     ]
    }
   ],
   "source": [
    "print(len(hid_humor_t))\n",
    "print(len(hid_nonhumor_t))\n",
    "print(len(hid_humor_f))\n",
    "print(len(hid_nonhumor_f))\n",
    "\n",
    "language_sdk=load_pickle(\"language_sdk.pkl\")\n",
    "\n",
    "sorted_humor_t = {k: v for k, v in sorted(hid_humor_t.items(), key=lambda item: item[1], reverse=True)}\n",
    "sorted_nonhumor_t = {k: v for k, v in sorted(hid_nonhumor_t.items(), key=lambda item: item[1], reverse=True)}\n",
    "sorted_humor_f = {k: v for k, v in sorted(hid_humor_f.items(), key=lambda item: item[1], reverse=True)}\n",
    "sorted_nonhumor_f = {k: v for k, v in sorted(hid_nonhumor_f.items(), key=lambda item: item[1], reverse=True)}\n",
    "\n",
    "for hid, output in list(sorted_humor_t.items())[:5]:\n",
    "    print(language_sdk[hid]['punchline_sentence'])\n",
    "print()\n",
    "for hid, output in list(sorted_humor_f.items())[:5]:\n",
    "    print(language_sdk[hid]['punchline_sentence'])\n",
    "print()\n",
    "for hid, output in list(sorted_nonhumor_t.items())[:5]:\n",
    "    print(language_sdk[hid]['punchline_sentence'])\n",
    "print()\n",
    "for hid, output in list(sorted_nonhumor_f.items())[:5]:\n",
    "    print(language_sdk[hid]['punchline_sentence'])"
   ]
  }
 ],
 "metadata": {
  "interpreter": {
   "hash": "36cf16204b8548560b1c020c4e8fb5b57f0e4c58016f52f2d4be01e192833930"
  },
  "kernelspec": {
   "display_name": "Python 3.9.9 64-bit",
   "language": "python",
   "name": "python3"
  },
  "language_info": {
   "codemirror_mode": {
    "name": "ipython",
    "version": 3
   },
   "file_extension": ".py",
   "mimetype": "text/x-python",
   "name": "python",
   "nbconvert_exporter": "python",
   "pygments_lexer": "ipython3",
   "version": "3.9.10"
  },
  "orig_nbformat": 4
 },
 "nbformat": 4,
 "nbformat_minor": 2
}
