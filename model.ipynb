{
 "cells": [
  {
   "cell_type": "code",
   "execution_count": 1,
   "metadata": {},
   "outputs": [],
   "source": [
    "#imports\n",
    "import torch\n",
    "import numpy as np\n",
    "import matplotlib.pyplot as plt\n",
    "import random\n",
    "import math"
   ]
  },
  {
   "cell_type": "code",
   "execution_count": 2,
   "metadata": {},
   "outputs": [
    {
     "name": "stdout",
     "output_type": "stream",
     "text": [
      "train size:  7614\n",
      "dev size:  980\n",
      "test size:  994\n"
     ]
    }
   ],
   "source": [
    "%run dataloader.ipynb"
   ]
  },
  {
   "cell_type": "code",
   "execution_count": 16,
   "metadata": {},
   "outputs": [],
   "source": [
    "batch_size=500\n",
    "train_dataloader = DataLoader(train_set, batch_size=batch_size, shuffle=True)\n",
    "dev_dataloader = DataLoader(dev_set, batch_size=batch_size, shuffle=True)\n",
    "test_dataloader = DataLoader(test_set, batch_size=batch_size, shuffle=True)"
   ]
  },
  {
   "cell_type": "code",
   "execution_count": 4,
   "metadata": {},
   "outputs": [],
   "source": [
    "gpu_id = 'cuda:3'\n",
    "device = torch.device(gpu_id if torch.cuda.is_available() else 'cpu')"
   ]
  },
  {
   "cell_type": "code",
   "execution_count": 17,
   "metadata": {},
   "outputs": [],
   "source": [
    "# cnn\n",
    "class CNN(torch.nn.Module):\n",
    "\n",
    "    def __init__(self, hidden_layer_size_1, window_size_1, hidden_layer_size_2, window_size_2) -> None:\n",
    "        super().__init__()\n",
    "        self.window_size_1 = window_size_1\n",
    "        self.window_size_2 = window_size_2\n",
    "        self.w1 = torch.nn.Parameter(torch.tensor(np.random.normal(0.0, 1.0, (hidden_layer_size_1, 300, window_size_1)), dtype=torch.float64))\n",
    "        self.b1 = torch.nn.Parameter(torch.zeros((hidden_layer_size_1,), dtype=torch.float64))\n",
    "        #self.w2 = torch.nn.Parameter(torch.tensor(np.random.normal(0.0, 1.0, (hidden_layer_size_2, hidden_layer_size_1, window_size_2)), dtype=torch.float64))\n",
    "        #self.b2 = torch.nn.Parameter(torch.zeros((hidden_layer_size_2,), dtype=torch.float64))\n",
    "        self.w3 = torch.nn.Parameter(torch.tensor(np.random.normal(0.0, 1.0, (hidden_layer_size_1, 1)), dtype=torch.float64))\n",
    "        self.b3 = torch.nn.Parameter(torch.zeros((1,), dtype=torch.float64))\n",
    "\n",
    "    def forward(self, x, text_lens):\n",
    "        x_t = x.transpose(1, 2)\n",
    "        hidden_1_t = torch.nn.functional.leaky_relu(torch.nn.functional.conv1d(x_t, self.w1, self.b1))\n",
    "        #hidden_2_t = torch.nn.functional.leaky_relu(torch.nn.functional.conv1d(hidden_1_t, self.w2, self.b2))\n",
    "        hidden = hidden_1_t.transpose(1, 2)\n",
    "\n",
    "        #pad_mask = torch.zeros(hidden.shape, dtype=torch.bool, device=device)\n",
    "        #for i in range(hidden.shape[0]):\n",
    "         #   for j in range(hidden.shape[1]):\n",
    "          #      pad_mask[i, j, :] = j < ((hidden.shape[1]) - (text_lens[i] - self.window_size + 1))\n",
    "        #masked = torch.masked_fill(hidden, pad_mask, torch.tensor(np.inf))\n",
    "        \n",
    "        pooled = torch.min(hidden, dim=1)[0]\n",
    "        return pooled@self.w3 + self.b3"
   ]
  },
  {
   "cell_type": "code",
   "execution_count": 18,
   "metadata": {},
   "outputs": [
    {
     "name": "stdout",
     "output_type": "stream",
     "text": [
      "step error\n"
     ]
    },
    {
     "name": "stderr",
     "output_type": "stream",
     "text": [
      "/tmp/ipykernel_705039/222519416.py:101: VisibleDeprecationWarning: Creating an ndarray from ragged nested sequences (which is a list-or-tuple of lists-or-tuples-or ndarrays with different lengths or shapes) is deprecated. If you meant to do this, you must specify 'dtype=object' when creating the ndarray.\n",
      "  context_w=np.array(self.language_sdk[hid]['context_embedding_indexes'])\n",
      "/tmp/ipykernel_705039/222519416.py:102: VisibleDeprecationWarning: Creating an ndarray from ragged nested sequences (which is a list-or-tuple of lists-or-tuples-or ndarrays with different lengths or shapes) is deprecated. If you meant to do this, you must specify 'dtype=object' when creating the ndarray.\n",
      "  context_of=np.array(self.word_aligned_openface_sdk[hid]['context_features'])\n",
      "/tmp/ipykernel_705039/222519416.py:103: VisibleDeprecationWarning: Creating an ndarray from ragged nested sequences (which is a list-or-tuple of lists-or-tuples-or ndarrays with different lengths or shapes) is deprecated. If you meant to do this, you must specify 'dtype=object' when creating the ndarray.\n",
      "  context_cvp=np.array(self.word_aligned_covarep_sdk[hid]['context_features'])\n"
     ]
    },
    {
     "name": "stdout",
     "output_type": "stream",
     "text": [
      "1 1.5195651976653561\n",
      "dev accuracy: 52.35%\n",
      "2 1.4843450479269367\n",
      "dev accuracy: 52.45%\n",
      "3 1.184273626291285\n",
      "dev accuracy: 53.06%\n",
      "4 0.9086054737518138\n",
      "dev accuracy: 53.88%\n",
      "5 0.7648114323846207\n",
      "dev accuracy: 54.29%\n",
      "6 0.8098797011265252\n",
      "dev accuracy: 54.39%\n",
      "7 0.7558802677681214\n",
      "dev accuracy: 54.59%\n",
      "8 0.8048165520141182\n",
      "dev accuracy: 56.33%\n",
      "9 0.8148052769678792\n",
      "dev accuracy: 55.41%\n",
      "10 0.771161524607982\n",
      "dev accuracy: 55.61%\n",
      "11 0.7078826782735077\n",
      "dev accuracy: 55.92%\n",
      "12 0.6191827234821341\n",
      "dev accuracy: 56.43%\n",
      "13 0.6346839774365148\n",
      "dev accuracy: 56.43%\n",
      "14 0.6777495503734537\n",
      "dev accuracy: 56.84%\n",
      "15 0.5990146063048832\n",
      "dev accuracy: 56.84%\n",
      "16 0.5910906611226382\n",
      "dev accuracy: 57.14%\n",
      "17 0.6043444421103388\n",
      "dev accuracy: 57.14%\n",
      "18 0.4951889366728753\n",
      "dev accuracy: 57.76%\n",
      "19 0.6080757119987463\n",
      "dev accuracy: 57.76%\n",
      "20 0.5158075267028188\n",
      "dev accuracy: 57.45%\n"
     ]
    },
    {
     "data": {
      "image/png": "[encoded data removed]",
      "text/plain": [
       "<Figure size 432x288 with 1 Axes>"
      ]
     },
     "metadata": {
      "needs_background": "light"
     },
     "output_type": "display_data"
    },
    {
     "data": {
      "image/png": "[encoded data removed]",
      "text/plain": [
       "<Figure size 432x288 with 1 Axes>"
      ]
     },
     "metadata": {
      "needs_background": "light"
     },
     "output_type": "display_data"
    }
   ],
   "source": [
    "device = torch.device(gpu_id if torch.cuda.is_available() else 'cpu')\n",
    "cnn = CNN(hidden_layer_size_1=512, window_size_1=2, hidden_layer_size_2=1024, window_size_2=2)\n",
    "cnn.to(device)\n",
    "\n",
    "optimiser = torch.optim.Adam(cnn.parameters(), lr=0.001)\n",
    "epochs = 20\n",
    "\n",
    "print('step', 'error')\n",
    "dev_accs = []\n",
    "errors = []\n",
    "for epoch in range(1, epochs+1):\n",
    "    for batch_idx, batch in enumerate(train_dataloader, 0):\n",
    "        x_p,x_c,y,hid,x_p_len=map(lambda x: x.to(device), batch)\n",
    "\n",
    "        optimiser.zero_grad()\n",
    "        output = cnn(x_p[:, :, :300], x_p_len)\n",
    "        error = torch.nn.functional.binary_cross_entropy_with_logits(output, y)\n",
    "        error.backward()\n",
    "        optimiser.step()\n",
    "    \n",
    "    print(epoch, error.detach().tolist())\n",
    "    errors.append(error.detach().tolist())\n",
    "\n",
    "    with torch.no_grad():\n",
    "        matches = 0\n",
    "        total = 0\n",
    "        for batch_idx, batch in enumerate(dev_dataloader, 0): \n",
    "            x_p,x_c,y,hid, x_p_len=map(lambda x: x.to(device), batch)\n",
    "            outputs = torch.sigmoid(cnn(x_p[:, :, :300], x_p_len))\n",
    "            predictions = (outputs > 0.5)*1\n",
    "            matches += (y == predictions).sum()\n",
    "            total += len(y)\n",
    "        acc = matches / total\n",
    "        dev_accs.append(float(acc))\n",
    "        print('dev accuracy: {:.2%}'.format(float(acc)))\n",
    "\n",
    "plt.plot(range(1, epochs+1), dev_accs, 'b')\n",
    "plt.title('dev set accuracy')\n",
    "plt.xlabel('epochs')\n",
    "plt.ylabel('accuracy')\n",
    "plt.show()\n",
    "\n",
    "plt.plot(range(1, epochs+1), errors, 'r')\n",
    "plt.title('train error')\n",
    "plt.xlabel('epochs')\n",
    "plt.ylabel('error')\n",
    "plt.show()"
   ]
  },
  {
   "cell_type": "code",
   "execution_count": 19,
   "metadata": {},
   "outputs": [
    {
     "name": "stderr",
     "output_type": "stream",
     "text": [
      "/tmp/ipykernel_705039/222519416.py:101: VisibleDeprecationWarning: Creating an ndarray from ragged nested sequences (which is a list-or-tuple of lists-or-tuples-or ndarrays with different lengths or shapes) is deprecated. If you meant to do this, you must specify 'dtype=object' when creating the ndarray.\n",
      "  context_w=np.array(self.language_sdk[hid]['context_embedding_indexes'])\n",
      "/tmp/ipykernel_705039/222519416.py:102: VisibleDeprecationWarning: Creating an ndarray from ragged nested sequences (which is a list-or-tuple of lists-or-tuples-or ndarrays with different lengths or shapes) is deprecated. If you meant to do this, you must specify 'dtype=object' when creating the ndarray.\n",
      "  context_of=np.array(self.word_aligned_openface_sdk[hid]['context_features'])\n",
      "/tmp/ipykernel_705039/222519416.py:103: VisibleDeprecationWarning: Creating an ndarray from ragged nested sequences (which is a list-or-tuple of lists-or-tuples-or ndarrays with different lengths or shapes) is deprecated. If you meant to do this, you must specify 'dtype=object' when creating the ndarray.\n",
      "  context_cvp=np.array(self.word_aligned_covarep_sdk[hid]['context_features'])\n"
     ]
    },
    {
     "name": "stdout",
     "output_type": "stream",
     "text": [
      "test accuracy: 59.05%\n"
     ]
    }
   ],
   "source": [
    "with torch.no_grad():\n",
    "    matches = 0\n",
    "    total = 0\n",
    "    for batch_idx, batch in enumerate(test_dataloader, 0): \n",
    "        x_p,x_c,y,hid, x_p_len=map(lambda x: x.to(device), batch)\n",
    "        outputs = torch.sigmoid(cnn(x_p[:, :, :300], x_p_len))\n",
    "        predictions = (outputs > 0.5)*1\n",
    "        matches += (y == predictions).sum()\n",
    "        total += len(y)\n",
    "    acc = matches / total\n",
    "    print('test accuracy: {:.2%}'.format(float(acc)))"
   ]
  }
 ],
 "metadata": {
  "interpreter": {
   "hash": "36cf16204b8548560b1c020c4e8fb5b57f0e4c58016f52f2d4be01e192833930"
  },
  "kernelspec": {
   "display_name": "Python 3.9.9 64-bit",
   "language": "python",
   "name": "python3"
  },
  "language_info": {
   "codemirror_mode": {
    "name": "ipython",
    "version": 3
   },
   "file_extension": ".py",
   "mimetype": "text/x-python",
   "name": "python",
   "nbconvert_exporter": "python",
   "pygments_lexer": "ipython3",
   "version": "3.9.9"
  },
  "orig_nbformat": 4
 },
 "nbformat": 4,
 "nbformat_minor": 2
}
